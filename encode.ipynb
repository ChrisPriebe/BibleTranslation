{
 "cells": [
  {
   "attachments": {},
   "cell_type": "markdown",
   "metadata": {},
   "source": [
    "# Experiments with encoding\n",
    "use lib/cipher.py for the final"
   ]
  },
  {
   "cell_type": "code",
   "execution_count": 73,
   "metadata": {},
   "outputs": [
    {
     "name": "stdout",
     "output_type": "stream",
     "text": [
      "Or lxi figorrorg Guw kvieliw lxi xiemir erw lxi ievlx.\n"
     ]
    },
    {
     "data": {
      "text/plain": [
       "'In the beginning God created the heaven and the earth.'"
      ]
     },
     "execution_count": 73,
     "metadata": {},
     "output_type": "execute_result"
    }
   ],
   "source": [
    "bible_verse = \"For God so loved the World, that he gave His one and only Son that whoever believes in Him shall not perish but have eterninal life. John 3:16\"\n",
    "\n",
    "# Encypt a string by substiuting each character with another character from our table below\n",
    "# the table is made of all vowels and then all constants\n",
    "substitution_table = {\n",
    "    'a': 'e',\n",
    "    'e': 'i',\n",
    "    'i': 'o',\n",
    "    'o': 'u',\n",
    "    'u': 'a',\n",
    "    'b': 'f',\n",
    "    'c': 'k',\n",
    "    'd': 'w',\n",
    "    'f': 's',\n",
    "    'g': 'g',\n",
    "    'h': 'x',\n",
    "    'j': 'y',\n",
    "    'k': 'c',\n",
    "    'l': 'p',\n",
    "    'm': 'n',\n",
    "    'n': 'r',\n",
    "    'p': 'q',\n",
    "    'q': 't',\n",
    "    'r': 'v',\n",
    "    's': 'z',\n",
    "    't': 'l',\n",
    "    'v': 'm',\n",
    "    'w': 'h',\n",
    "    'x': 'b',\n",
    "    'y': 'j',\n",
    "    'z': 'd'\n",
    "}\n",
    "\n",
    "# invert substitution table\n",
    "decoder_table = {v: k for k, v in substitution_table.items()}\n",
    "\n",
    "def substitution_cipher(text, encode=True):\n",
    "    result = \"\"\n",
    "    if encode:\n",
    "        codes = substitution_table\n",
    "    else:\n",
    "        codes = decoder_table\n",
    "\n",
    "    for character in text:\n",
    "        was_capitilized = character.isupper()\n",
    "        character = character.lower()\n",
    "        if character.isalpha() and character in codes:\n",
    "            if was_capitilized:\n",
    "                result += codes[character].upper()\n",
    "            else:\n",
    "                result += codes[character]\n",
    "        else:\n",
    "            result += character\n",
    "    return result\n",
    "\n",
    "encoded = substitution_cipher(taylen)\n",
    "print(encoded)\n",
    "substitution_cipher(encoded, encode=False)"
   ]
  },
  {
   "cell_type": "code",
   "execution_count": 72,
   "metadata": {},
   "outputs": [],
   "source": [
    "def caesar_cipher(text, offset):\n",
    "    result = \"\"\n",
    "    for character in text:\n",
    "        if character.isalpha():\n",
    "            # Q. what is ord() for a four year old wihtout any techinical background? terms\n",
    "            # A. ord() is a function that returns the unicode code point for a single character string.\n",
    "            code = ord(character)\n",
    "            code += offset\n",
    "            if character.isupper():\n",
    "                if code > ord('Z'):\n",
    "                    code -= 26\n",
    "                elif code < ord('A'):\n",
    "                    code += 26\n",
    "            elif character.islower():\n",
    "                if code > ord('z'):\n",
    "                    code -= 26\n",
    "                elif code < ord('a'):\n",
    "                    code += 26\n",
    "            result += chr(code)\n",
    "        else:\n",
    "            result += character\n",
    "    return result\n",
    "\n",
    "encrypted_verse = caesar_cipher(bible_verse, 17)"
   ]
  }
 ],
 "metadata": {
  "kernelspec": {
   "display_name": "Python 3",
   "language": "python",
   "name": "python3"
  },
  "language_info": {
   "codemirror_mode": {
    "name": "ipython",
    "version": 3
   },
   "file_extension": ".py",
   "mimetype": "text/x-python",
   "name": "python",
   "nbconvert_exporter": "python",
   "pygments_lexer": "ipython3",
   "version": "3.8.9"
  },
  "orig_nbformat": 4,
  "vscode": {
   "interpreter": {
    "hash": "31f2aee4e71d21fbe5cf8b01ff0e069b9275f58929596ceb00d14d90e3e16cd6"
   }
  }
 },
 "nbformat": 4,
 "nbformat_minor": 2
}
