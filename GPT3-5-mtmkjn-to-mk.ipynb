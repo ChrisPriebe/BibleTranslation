{
 "cells": [
  {
   "attachments": {},
   "cell_type": "markdown",
   "metadata": {},
   "source": [
    "# Attempt to fine-tune GPT3.5 to translate between languages\n",
    "The first language will be our made up language (see notes on get_bible as to why we think GPT is cheating)\n",
    "The thesis is that fine-tuning will cause GPT3 to learn the fake language as a new language by assigning the embeddings of the\n",
    "new words essentially to the same dimensional space as the english.  Should be trivial to translate it back as it is a word \n",
    "for word translation.\n",
    "\n"
   ]
  },
  {
   "cell_type": "code",
   "execution_count": 39,
   "metadata": {},
   "outputs": [],
   "source": [
    "from lib.config import get_config\n",
    "from lib.cipher import substitution_cipher\n",
    "import json, random, time, os\n",
    "\n",
    "# To install pip install pandas, openai, nltk\n",
    "import pandas as pd\n",
    "import openai # !pip install openai==0.27.9\n",
    "from nltk.translate.bleu_score import sentence_bleu\n",
    "\n",
    "FILENAME = \"GPT3-5\"\n",
    "EPOCHS = 3  # Since we are repeating the data with different versions we don't want to overfit\n",
    "SOURCE_BOOKS = ['MRK']\n",
    "TARGET_BOOKS = ['MAT']\n",
    "VERSIONS = ['eng-web', 'eng-asv', 'eng-kjv2006', 'hin2017','arbnav','latVUC','amo']\n",
    "VERSION_LANGUAGES = [\"English (WEB)\", \"English (ASV)\", \"English (KJV)\", \"Hindi\", \"Arabic\", \"Latin\", \"Amo\"]\n",
    "SPLIT_RATIO = 0.8\n",
    "EXPERIMENT_NAME = \"01_mk_to_mt\"  # Max 18 characters\n",
    "FILENAME = FILENAME + \"_\" + EXPERIMENT_NAME\n",
    "SEPERATOR = \"\\n---\\n\"\n",
    "TOTAL_SKIP_WORDS = 50  # Skip the x least common words to teach it how to behave on missing words\n",
    "\n",
    "# set environment variable in ipython notebook\n",
    "os.environ[\"OPENAI_API_KEY\"] = get_config('openai')['api_key']\n",
    "openai.api_key = os.getenv(\"OPENAI_API_KEY\")"
   ]
  },
  {
   "cell_type": "code",
   "execution_count": 36,
   "metadata": {},
   "outputs": [],
   "source": [
    "def system_message(source):\n",
    "    return f\"\"\"\n",
    "You are an expert translator, the user will ask you to translate from one language to another.\n",
    "\"\"\"\n",
    "\n",
    "def system_message_all(source):\n",
    "    return f\"\"\"\n",
    "You are an expert translator, the user will give you a verse to translate and various parallel translations. You need to translate it into Berrig.\n",
    "\"\"\"\n",
    "\n"
   ]
  },
  {
   "cell_type": "code",
   "execution_count": 23,
   "metadata": {},
   "outputs": [],
   "source": [
    "bible = pd.read_csv('data/bible.csv')\n",
    "\n",
    "# Assuming the gospels have a lot of overlap include the synoptic gospels plus John to train\n",
    "# then predict Mark (which should be easy as Matthew and Luke may have copied from him)\n",
    "train = bible[bible['book'].isin(SOURCE_BOOKS)]\n",
    "test = bible[bible['book'].isin(TARGET_BOOKS)]"
   ]
  },
  {
   "cell_type": "code",
   "execution_count": 34,
   "metadata": {},
   "outputs": [
    {
     "name": "stdout",
     "output_type": "stream",
     "text": [
      "163\n"
     ]
    },
    {
     "data": {
      "text/plain": [
       "[('lxij', 'they', 257),\n",
       " ('zeow', 'said', 243),\n",
       " ('lxin', 'them', 194),\n",
       " ('holx', 'with', 155),\n",
       " ('hopp', 'will', 144),\n",
       " ('xemi', 'have', 121),\n",
       " ('lxel', 'that', 119),\n",
       " ('hivi', 'were', 116),\n",
       " ('keni', 'came', 112),\n",
       " ('svun', 'from', 108),\n",
       " ('hxir', 'when', 98),\n",
       " ('hirl', 'went', 97),\n",
       " ('kuni', 'come', 93),\n",
       " ('orlu', 'into', 88),\n",
       " ('yizaz', 'jesus', 86),\n",
       " ('gemi', 'gave', 78),\n",
       " ('ehej', 'away', 74),\n",
       " ('lxivi', 'there', 68),\n",
       " ('juav', 'your', 62),\n",
       " ('luuc', 'took', 62),\n",
       " ('lxiov', 'their', 62),\n",
       " ('newi', 'made', 62),\n",
       " ('leci', 'take', 62),\n",
       " ('lxuzi', 'those', 60),\n",
       " ('gomi', 'give', 59),\n",
       " ('hxel', 'what', 59),\n",
       " ('lxoz', 'this', 55),\n",
       " ('fikeazi', 'because', 48),\n",
       " ('hxokx', 'which', 48),\n",
       " ('qiuqpi', 'people', 47),\n",
       " ('efual', 'about', 46),\n",
       " ('lxorgz', 'things', 46),\n",
       " ('wozkoqpiz', 'disciples', 45),\n",
       " ('gviel', 'great', 43),\n",
       " ('zejorg', 'saying', 41),\n",
       " ('esliv', 'after', 40),\n",
       " ('neci', 'make', 35),\n",
       " ('ranfiv', 'number', 35),\n",
       " ('gomir', 'given', 33),\n",
       " ('fiir', 'been', 33),\n",
       " ('imop', 'evil', 33),\n",
       " ('egeor', 'again', 31),\n",
       " ('lxizi', 'these', 31),\n",
       " ('wiew', 'dead', 30),\n",
       " ('wielx', 'death', 30),\n",
       " ('imir', 'even', 29),\n",
       " ('suuw', 'food', 29),\n",
       " ('wuhr', 'down', 29),\n",
       " ('xuazi', 'house', 28),\n",
       " ('zlveogxl', 'straight', 27),\n",
       " ('zirl', 'sent', 27),\n",
       " ('fisuvi', 'before', 25),\n",
       " ('zqovol', 'spirit', 25),\n",
       " ('liekxorg', 'teaching', 25),\n",
       " ('xerwz', 'hands', 25),\n",
       " ('yuxr', 'john', 24),\n",
       " ('loni', 'time', 24),\n",
       " ('fview', 'bread', 24),\n",
       " ('egeorzl', 'against', 24),\n",
       " ('fekc', 'back', 24),\n",
       " ('rihz', 'news', 23),\n",
       " ('sapp', 'full', 23),\n",
       " ('sovzl', 'first', 22),\n",
       " ('seolx', 'faith', 22),\n",
       " ('qpeki', 'place', 22),\n",
       " ('siev', 'fear', 22),\n",
       " ('fuel', 'boat', 21),\n",
       " ('nogxl', 'might', 21),\n",
       " ('lvapj', 'truly', 21),\n",
       " ('erzhiv', 'answer', 21),\n",
       " ('enurg', 'among', 21),\n",
       " ('hipp', 'well', 20),\n",
       " ('zkvofiz', 'scribes', 20),\n",
       " ('efpi', 'able', 20),\n",
       " ('zuni', 'some', 20),\n",
       " ('zieliw', 'seated', 20),\n",
       " ('hxopi', 'while', 20),\n",
       " ('kuarlvj', 'country', 20),\n",
       " ('corgwun', 'kingdom', 19),\n",
       " ('vuarw', 'round', 19),\n",
       " ('nulxiv', 'mother', 19),\n",
       " ('xonzips', 'himself', 19),\n",
       " ('lxir', 'then', 19),\n",
       " ('wuri', 'done', 19),\n",
       " ('huvwz', 'words', 18),\n",
       " ('guuw', 'good', 18),\n",
       " ('kunorg', 'coming', 18),\n",
       " ('guorg', 'going', 18),\n",
       " ('selxiv', 'father', 18),\n",
       " ('arkpier', 'unclean', 18),\n",
       " ('xerw', 'hand', 18),\n",
       " ('puucorg', 'looking', 18),\n",
       " ('posi', 'life', 18),\n",
       " ('qiliv', 'peter', 18),\n",
       " ('ciiq', 'keep', 18),\n",
       " ('nezliv', 'master', 18),\n",
       " ('pollpi', 'little', 17),\n",
       " ('zqovolz', 'spirits', 17),\n",
       " ('ulxiv', 'other', 17),\n",
       " ('rulxorg', 'nothing', 17),\n",
       " ('kxois', 'chief', 17),\n",
       " ('wejz', 'days', 16),\n",
       " ('hxivi', 'where', 16),\n",
       " ('holxual', 'without', 16),\n",
       " ('reni', 'name', 16),\n",
       " ('xiemir', 'heaven', 15),\n",
       " ('yeniz', 'james', 15),\n",
       " ('hurwiv', 'wonder', 15),\n",
       " ('ievlx', 'earth', 15),\n",
       " ('xievorg', 'hearing', 15),\n",
       " ('vogxl', 'right', 15),\n",
       " ('qvoizlz', 'priests', 15),\n",
       " ('lhipmi', 'twelve', 15),\n",
       " ('hxuimiv', 'whoever', 15),\n",
       " ('nakx', 'much', 15),\n",
       " ('ealxuvolj', 'authority', 14),\n",
       " ('huvw', 'word', 14),\n",
       " ('cruhpiwgi', 'knowledge', 14),\n",
       " ('vitaizl', 'request', 14),\n",
       " ('quhiv', 'power', 14),\n",
       " ('huapw', 'would', 14),\n",
       " ('zowi', 'side', 14),\n",
       " ('sepzi', 'false', 14),\n",
       " ('lxinzipmiz', 'themselves', 14),\n",
       " ('wizovi', 'desire', 14),\n",
       " ('kxopw', 'child', 14),\n",
       " ('puvw', 'lord', 13),\n",
       " ('hxun', 'whom', 13),\n",
       " ('erulxiv', 'another', 13),\n",
       " ('lugilxiv', 'together', 13),\n",
       " ('lecir', 'taken', 13),\n",
       " ('lxvuagx', 'through', 13),\n",
       " ('xogx', 'high', 13),\n",
       " ('kpiev', 'clear', 13),\n",
       " ('zirw', 'send', 12),\n",
       " ('perw', 'land', 12),\n",
       " ('xievlz', 'hearts', 12),\n",
       " ('fvucir', 'broken', 12),\n",
       " ('fvulxiv', 'brother', 12),\n",
       " ('gomiz', 'gives', 12),\n",
       " ('ziir', 'seen', 12),\n",
       " ('qxevoziiz', 'pharisees', 12),\n",
       " ('lecorg', 'taking', 12),\n",
       " ('zeni', 'same', 12),\n",
       " ('nuvi', 'more', 12),\n",
       " ('guri', 'gone', 12),\n",
       " ('hosi', 'wife', 12),\n",
       " ('taizlour', 'question', 12),\n",
       " ('kvuzz', 'cross', 12),\n",
       " ('viewj', 'ready', 11),\n",
       " ('kvjorg', 'crying', 11),\n",
       " ('lxer', 'than', 11),\n",
       " ('gepopii', 'galilee', 11),\n",
       " ('zeffelx', 'sabbath', 11),\n",
       " ('xemorg', 'having', 11),\n",
       " ('uvwivz', 'orders', 11),\n",
       " ('qvejiv', 'prayer', 11),\n",
       " ('riev', 'near', 11),\n",
       " ('zakx', 'such', 11),\n",
       " ('ulxivz', 'others', 11),\n",
       " ('nurij', 'money', 11),\n",
       " ('corg', 'king', 11),\n",
       " ('linqpi', 'temple', 11)]"
      ]
     },
     "execution_count": 34,
     "metadata": {},
     "output_type": "execute_result"
    }
   ],
   "source": [
    "# Determine the most common words in the train data\n",
    "from collections import defaultdict\n",
    "def get_words(df, min_frequency=0, min_length=0):\n",
    "    word_count = defaultdict(int)\n",
    "    for index, row in df.iterrows():\n",
    "        for word in row['birrig'].split():\n",
    "            # lowercase and remove punctation\n",
    "            word = word.lower().strip('.,;!?')\n",
    "            if len(word) >= min_length:\n",
    "                word_count[word] += 1\n",
    "\n",
    "    # Sort the words by frequency\n",
    "    sorted_words = sorted(word_count.items(), key=lambda item: item[1], reverse=True)\n",
    "    all_words = [(word[0], substitution_cipher(word[0], encode=False).strip(), word[1]) for word in sorted_words]\n",
    "    \n",
    "    # reduce words to those that appear more than min_frequency\n",
    "    return [word for word in all_words if word[2] > min_frequency]\n",
    "\n",
    "words = get_words(train, min_frequency=10, min_length=4)\n",
    "print(len(words))\n",
    "words"
   ]
  },
  {
   "cell_type": "code",
   "execution_count": 43,
   "metadata": {},
   "outputs": [],
   "source": [
    "def write_file(df, file_handlers, versions, split=None):\n",
    "    \n",
    "        \n",
    "\n",
    "        results = []\n",
    "        # Start off by teaching it some common words\n",
    "        words = get_words(df, min_frequency=10, min_length=4)\n",
    "        for word in words:\n",
    "            results.append((random.random(), {\n",
    "                \"messages\": [\n",
    "                    {\"role\": \"system\", \"content\": system_message('English')},\n",
    "                    {\"role\": \"user\", \"content\": f\"Translate from English to Birrig\\n{word[0]}\"},\n",
    "                    {\"role\": \"assistant\", \"content\": word[1]},\n",
    "                ]\n",
    "            }))\n",
    "\n",
    "        skip_words = get_words(df)[TOTAL_SKIP_WORDS*-1:]\n",
    "\n",
    "        # loop through the train and validate dataframes and add each row to a dataset\n",
    "        for _, row in df.iterrows():\n",
    "            # Loop through all the Bible Versions\n",
    "            source_text = f\"{row['book']} {row['chapter']}:{row['verse']}\"\n",
    "            berrig_text = row['birrig']\n",
    "            for word in skip_words:\n",
    "                berrig_text = berrig_text.replace(word[0], f\"[{word[1]}]\")\n",
    "\n",
    "            for item in versions:\n",
    "                language = VERSION_LANGUAGES[versions.index(item)]\n",
    "                if not pd.isna(row[item]) and not pd.isna(row['birrig']):\n",
    "                    # Create a GPT chat message we will teach GPT how to reply to\n",
    "                    # Thus learning the new language\n",
    "                    results.append((random.random(),{\n",
    "                        \"messages\": [\n",
    "                            {\"role\": \"system\", \"content\": system_message(item)},\n",
    "                            {\"role\": \"user\", \"content\": f\"Translate from {language} to Birrig\\n{row[item]}\"},\n",
    "                            {\"role\": \"assistant\", \"content\": row['birrig']},\n",
    "                        ]\n",
    "                    }))\n",
    "\n",
    "                    # Create a GPT chat message we will teach GPT how to reply to\n",
    "                    # Thus learning the new language\n",
    "                    results.append((random.random(),{\n",
    "                        \"messages\": [\n",
    "                            {\"role\": \"system\", \"content\": system_message(item)},\n",
    "                            {\"role\": \"user\", \"content\": f\"Translate from Birrig to {language}\\n{row['birrig']}\"},\n",
    "                            {\"role\": \"assistant\", \"content\": row[item]},\n",
    "                        ]\n",
    "                    }))\n",
    "\n",
    "                    results.append((random.random(),{\n",
    "                        \"messages\": [\n",
    "                            {\"role\": \"system\", \"content\": \"You are an expert in the Bible and can quote scripture. Given a Bible verse quote it in Birrig\"},\n",
    "                            {\"role\": \"user\", \"content\": source_text},\n",
    "                            {\"role\": \"assistant\", \"content\": row['birrig']},\n",
    "                        ]\n",
    "                    }))\n",
    "\n",
    "                    source_texts = f\"{item}\\t{row[item]}\\n\"\n",
    "            \n",
    "            results.append((random.random(),{\n",
    "                \"messages\": [\n",
    "                    {\"role\": \"system\", \"content\": system_message_all(item)},\n",
    "                    {\"role\": \"user\", \"content\": source_texts},\n",
    "                    {\"role\": \"assistant\", \"content\": row['birrig']},\n",
    "                ]\n",
    "            }))\n",
    "           \n",
    "        \n",
    "        results.sort(key=lambda x: x[0])\n",
    "        \n",
    "        # Remove trailing newline in file by this little cheat\n",
    "        optional_newline = [\"\",\"\"]\n",
    "        for some_random_num, line in results:\n",
    "            # Write to the file, if split to train (index 0) or validate (index 1)\n",
    "            if split is None or some_random_num <= split or len(file_handlers) == 1:\n",
    "                index = 0\n",
    "            else:\n",
    "                index = 1\n",
    "            file_handlers[index].write(optional_newline[index] + json.dumps(line))\n",
    "            optional_newline[index] = \"\\n\"\n",
    "\n",
    "with open(f'data/{FILENAME}_train.jsonl','w') as f1, open(f'data/{FILENAME}_validate.jsonl','w') as f2, open(f'data/{FILENAME}_test.jsonl','w') as f3:\n",
    "    write_file(train, [f1,f2], VERSIONS, SPLIT_RATIO)\n",
    "    write_file(test, [f3], VERSIONS)\n"
   ]
  },
  {
   "cell_type": "code",
   "execution_count": 44,
   "metadata": {},
   "outputs": [
    {
     "data": {
      "text/plain": [
       "{'train': 'file-mbedXsPm4fEXEJkxvKGgS4Rq',\n",
       " 'validate': 'file-VJF8UeJQmBYcqG4ZO0LxLUfi'}"
      ]
     },
     "execution_count": 44,
     "metadata": {},
     "output_type": "execute_result"
    }
   ],
   "source": [
    "openai.api_key = os.environ[\"OPENAI_API_KEY\"]\n",
    "\n",
    "files = {}\n",
    "for part in ['train', 'validate']:\n",
    "    try:\n",
    "        res = openai.File.create(\n",
    "            file=open(f'data/{FILENAME}_{part}.jsonl', \"r\"),\n",
    "            purpose='fine-tune'\n",
    "        )\n",
    "        files[part] = res['id']\n",
    "    except Exception as e:\n",
    "        print(e, part, f'data/{FILENAME}_{part}.jsonl')\n",
    "\n",
    "files"
   ]
  },
  {
   "cell_type": "code",
   "execution_count": 45,
   "metadata": {},
   "outputs": [
    {
     "name": "stdout",
     "output_type": "stream",
     "text": [
      "File is still being processed. Retrying in 30 seconds...\n",
      "File is still being processed. Retrying in 30 seconds...\n",
      "File is still being processed. Retrying in 30 seconds...\n",
      "File is still being processed. Retrying in 30 seconds...\n",
      "File is still being processed. Retrying in 30 seconds...\n",
      "File is still being processed. Retrying in 30 seconds...\n",
      "File is still being processed. Retrying in 30 seconds...\n",
      "File is still being processed. Retrying in 30 seconds...\n",
      "File is still being processed. Retrying in 30 seconds...\n"
     ]
    },
    {
     "data": {
      "text/plain": [
       "<FineTuningJob fine_tuning.job id=ftjob-nHgVBPiiQUxSxzk1r1tIiTZZ at 0x1232469a0> JSON: {\n",
       "  \"object\": \"fine_tuning.job\",\n",
       "  \"id\": \"ftjob-nHgVBPiiQUxSxzk1r1tIiTZZ\",\n",
       "  \"model\": \"gpt-3.5-turbo-0613\",\n",
       "  \"created_at\": 1694652725,\n",
       "  \"finished_at\": null,\n",
       "  \"fine_tuned_model\": null,\n",
       "  \"organization_id\": \"org-dSLF9Ay5XJvsvCOjYOjUYfQQ\",\n",
       "  \"result_files\": [],\n",
       "  \"status\": \"created\",\n",
       "  \"validation_file\": \"file-VJF8UeJQmBYcqG4ZO0LxLUfi\",\n",
       "  \"training_file\": \"file-mbedXsPm4fEXEJkxvKGgS4Rq\",\n",
       "  \"hyperparameters\": {\n",
       "    \"n_epochs\": 3\n",
       "  },\n",
       "  \"trained_tokens\": null,\n",
       "  \"error\": null\n",
       "}"
      ]
     },
     "execution_count": 45,
     "metadata": {},
     "output_type": "execute_result"
    }
   ],
   "source": [
    "while True:\n",
    "    try:\n",
    "        res = openai.FineTuningJob.create(\n",
    "            training_file=files['train'],\n",
    "            validation_file=files['validate'],\n",
    "            model=\"gpt-3.5-turbo\",\n",
    "            hyperparameters={\n",
    "                \"n_epochs\":EPOCHS,\n",
    "            },\n",
    "            suffix=EXPERIMENT_NAME[0:18],\n",
    "        )\n",
    "        job_id = res[\"id\"]\n",
    "\n",
    "        break\n",
    "    except openai.error.InvalidRequestError as e:\n",
    "        if \"File 'file-\" in str(e) and \"' is still being processed and is not ready to be used for fine-tuning.\" in str(e):\n",
    "            print(\"File is still being processed. Retrying in 30 seconds...\")\n",
    "            time.sleep(30)\n",
    "        else:\n",
    "            raise e\n",
    "res"
   ]
  },
  {
   "cell_type": "code",
   "execution_count": 47,
   "metadata": {},
   "outputs": [
    {
     "name": "stdout",
     "output_type": "stream",
     "text": [
      "{\n",
      "  \"object\": \"fine_tuning.job\",\n",
      "  \"id\": \"ftjob-nHgVBPiiQUxSxzk1r1tIiTZZ\",\n",
      "  \"model\": \"gpt-3.5-turbo-0613\",\n",
      "  \"created_at\": 1694652725,\n",
      "  \"finished_at\": 1694656988,\n",
      "  \"fine_tuned_model\": \"ft:gpt-3.5-turbo-0613:personal:01-mk-to-mt:7yVzBeO4\",\n",
      "  \"organization_id\": \"org-dSLF9Ay5XJvsvCOjYOjUYfQQ\",\n",
      "  \"result_files\": [\n",
      "    \"file-6PUB4drqe2Km8e9lnOp6Tp4w\"\n",
      "  ],\n",
      "  \"status\": \"succeeded\",\n",
      "  \"validation_file\": \"file-VJF8UeJQmBYcqG4ZO0LxLUfi\",\n",
      "  \"training_file\": \"file-mbedXsPm4fEXEJkxvKGgS4Rq\",\n",
      "  \"hyperparameters\": {\n",
      "    \"n_epochs\": 3\n",
      "  },\n",
      "  \"trained_tokens\": 4051686,\n",
      "  \"error\": null\n",
      "}\n"
     ]
    },
    {
     "data": {
      "text/plain": [
       "'ft:gpt-3.5-turbo-0613:personal:01-mk-to-mt:7yVzBeO4'"
      ]
     },
     "execution_count": 47,
     "metadata": {},
     "output_type": "execute_result"
    }
   ],
   "source": [
    "\n",
    "while True:\n",
    "    res = openai.FineTuningJob.retrieve(job_id)\n",
    "    if res[\"finished_at\"] != None:\n",
    "        print(res)\n",
    "        break\n",
    "    else:\n",
    "        print(\".\", end=\"\")\n",
    "        time.sleep(100)\n",
    "\n",
    "ft_model = res[\"fine_tuned_model\"]\n",
    "ft_model"
   ]
  },
  {
   "cell_type": "code",
   "execution_count": 48,
   "metadata": {},
   "outputs": [],
   "source": [
    "def create_messages(text, version=\"eng-web\"):\n",
    "    # if text is a dict we can assume they already formatted it\n",
    "    if isinstance(text, dict):\n",
    "        # make sure the last item in messages is not a user message\n",
    "        if text['messages'][-1]['role'] == 'user':\n",
    "            text['messages'].pop()\n",
    "        return text\n",
    "\n",
    "    if isinstance(text, list):\n",
    "        text = SEPERATOR.join(text)\n",
    "    \n",
    "    line = {\n",
    "        \"messages\": [\n",
    "            {\"role\": \"system\", \"content\": system_message(version)},\n",
    "            {\"role\": \"user\", \"content\": text},\n",
    "        ]\n",
    "    }\n",
    "    return line['messages']\n",
    "\n",
    "def translate(text, version=\"eng-web\", debug=False, temperature=0.1):\n",
    "    \"\"\"\n",
    "    Translate text to Birrig\n",
    "    \n",
    "    Parameters\n",
    "    ----------\n",
    "    text: str|array\n",
    "        The text to translate. If an array is passed, each element will be translated.\n",
    "    version: str\n",
    "        The version of the Bible to translate from. Default is 'eng-web'\n",
    "\n",
    "    Returns\n",
    "    ------- \n",
    "    array\n",
    "        An array of translations\n",
    "        \n",
    "    \"\"\"\n",
    "    if isinstance(text, list):\n",
    "        if len(text) > 20:\n",
    "            # break it into chunks of 20 and call translate on each chunk\n",
    "            # then combine the results\n",
    "            result = []\n",
    "            for i in range(0, len(text), 20):\n",
    "                result += translate(text[i:i+20])\n",
    "            return result\n",
    "\n",
    "    messages = create_messages(text, version)\n",
    "    response = openai.ChatCompletion.create(\n",
    "        model=ft_model,\n",
    "        messages=messages,\n",
    "        temperature=temperature,  # 0.1 is very little randomness/creativity, 2 is very\n",
    "        max_tokens=2000,\n",
    "        n=1,\n",
    "        #logprobs=debug and 5 or 0,\n",
    "    )\n",
    "    result = []\n",
    "    for choice in response.get('choices',[{}]):\n",
    "        text = choice.get('message', {\"content\":\"\"}).get(\"content\").strip()\n",
    "        decoded = substitution_cipher(text, encode=False).strip()\n",
    "        if isinstance(text, list):\n",
    "            decoded = decoded.split(SEPERATOR)\n",
    "        result.append(decoded)\n",
    "        \n",
    "    \n",
    "    return result"
   ]
  },
  {
   "cell_type": "code",
   "execution_count": 50,
   "metadata": {},
   "outputs": [
    {
     "data": {
      "text/plain": [
       "['And he said, I have prayer of word and some, and will take no food because it has been orderle of the time when it come.']"
      ]
     },
     "execution_count": 50,
     "metadata": {},
     "output_type": "execute_result"
    }
   ],
   "source": [
    "translate(\"he ate locusts and honey\", debug=True, temperature=0.1)"
   ]
  },
  {
   "cell_type": "code",
   "execution_count": 51,
   "metadata": {},
   "outputs": [
    {
     "data": {
      "text/plain": [
       "['And he said to them, Give spir of men, because I have given you spir of men.']"
      ]
     },
     "execution_count": 51,
     "metadata": {},
     "output_type": "execute_result"
    }
   ],
   "source": [
    "translate([\"Jesus said\", \"love one another\", \"be my disciples\"])"
   ]
  },
  {
   "cell_type": "code",
   "execution_count": 11,
   "metadata": {},
   "outputs": [
    {
     "data": {
      "text/plain": [
       "[\"And John had a coat of camap's hain and a let of talent away abaut his backe. His food was clear and honey.\"]"
      ]
     },
     "execution_count": 11,
     "metadata": {},
     "output_type": "execute_result"
    }
   ],
   "source": [
    "translate(bible[bible['0']=='MRK 1:6'][['eng-web']].values[0][0], debug=False, temperature=0.001)"
   ]
  },
  {
   "cell_type": "code",
   "execution_count": 12,
   "metadata": {},
   "outputs": [
    {
     "ename": "InvalidRequestError",
     "evalue": "['The beginning of the Good News of Jesus Christ, the Son of God.', 'As it is written in the prophets, “Behold, I send my messenger before your face, who will prepare your way before you:', 'the voice of one crying in the wilderness, ‘Make ready the way of the Lord! Make his paths straight!’”', 'John came baptizing in the wilderness and preaching the baptism of repentance for forgiveness of sins.', 'All the country of Judea and all those of Jerusalem went out to him. They were baptized by him in the Jordan river, confessing their sins.', 'John was clothed with camel’s hair and a leather belt around his waist. He ate locusts and wild honey.', 'He preached, saying, “After me comes he who is mightier than I, the thong of whose sandals I am not worthy to stoop down and loosen.', 'I baptized you in water, but he will baptize you in the Holy Spirit.”', 'In those days, Jesus came from Nazareth of Galilee, and was baptized by John in the Jordan.', 'Immediately coming up from the water, he saw the heavens parting and the Spirit descending on him like a dove.', 'A voice came out of the sky, “You are my beloved Son, in whom I am well pleased.”', 'Immediately the Spirit drove him out into the wilderness.', 'He was there in the wilderness forty days, tempted by Satan. He was with the wild animals; and the angels were serving him.', 'Now after John was taken into custody, Jesus came into Galilee, preaching the Good News of God’s Kingdom,', 'and saying, “The time is fulfilled, and God’s Kingdom is at hand! Repent, and believe in the Good News.”', 'Passing along by the sea of Galilee, he saw Simon and Andrew, the brother of Simon, casting a net into the sea, for they were fishermen.', 'Jesus said to them, “Come after me, and I will make you into fishers for men.”', 'Immediately they left their nets, and followed him.', 'Going on a little further from there, he saw James the son of Zebedee, and John his brother, who were also in the boat mending the nets.', 'Immediately he called them, and they left their father, Zebedee, in the boat with the hired servants, and went after him.'] is not of type 'string' - 'messages.1.content'",
     "output_type": "error",
     "traceback": [
      "\u001b[0;31m---------------------------------------------------------------------------\u001b[0m",
      "\u001b[0;31mInvalidRequestError\u001b[0m                       Traceback (most recent call last)",
      "Cell \u001b[0;32mIn[12], line 2\u001b[0m\n\u001b[1;32m      1\u001b[0m \u001b[39m# Get the column eng-web from the first 3 rows of validate then send it to translate\u001b[39;00m\n\u001b[0;32m----> 2\u001b[0m test[\u001b[39m'\u001b[39m\u001b[39mtranslation\u001b[39m\u001b[39m'\u001b[39m] \u001b[39m=\u001b[39m translate(test[\u001b[39m'\u001b[39;49m\u001b[39meng-web\u001b[39;49m\u001b[39m'\u001b[39;49m]\u001b[39m.\u001b[39;49mto_list())\n\u001b[1;32m      3\u001b[0m test\n",
      "Cell \u001b[0;32mIn[9], line 40\u001b[0m, in \u001b[0;36mtranslate\u001b[0;34m(text, version, debug, temperature)\u001b[0m\n\u001b[1;32m     38\u001b[0m         result \u001b[39m=\u001b[39m []\n\u001b[1;32m     39\u001b[0m         \u001b[39mfor\u001b[39;00m i \u001b[39min\u001b[39;00m \u001b[39mrange\u001b[39m(\u001b[39m0\u001b[39m, \u001b[39mlen\u001b[39m(text), \u001b[39m20\u001b[39m):\n\u001b[0;32m---> 40\u001b[0m             result \u001b[39m+\u001b[39m\u001b[39m=\u001b[39m translate(text[i:i\u001b[39m+\u001b[39;49m\u001b[39m20\u001b[39;49m])\n\u001b[1;32m     41\u001b[0m         \u001b[39mreturn\u001b[39;00m result\n\u001b[1;32m     43\u001b[0m messages \u001b[39m=\u001b[39m create_messages(text, version)\n",
      "Cell \u001b[0;32mIn[9], line 44\u001b[0m, in \u001b[0;36mtranslate\u001b[0;34m(text, version, debug, temperature)\u001b[0m\n\u001b[1;32m     41\u001b[0m         \u001b[39mreturn\u001b[39;00m result\n\u001b[1;32m     43\u001b[0m messages \u001b[39m=\u001b[39m create_messages(text, version)\n\u001b[0;32m---> 44\u001b[0m response \u001b[39m=\u001b[39m openai\u001b[39m.\u001b[39;49mChatCompletion\u001b[39m.\u001b[39;49mcreate(\n\u001b[1;32m     45\u001b[0m     model\u001b[39m=\u001b[39;49mft_model,\n\u001b[1;32m     46\u001b[0m     messages\u001b[39m=\u001b[39;49mmessages,\n\u001b[1;32m     47\u001b[0m     temperature\u001b[39m=\u001b[39;49mtemperature,  \u001b[39m# 0.1 is very little randomness/creativity, 2 is very\u001b[39;49;00m\n\u001b[1;32m     48\u001b[0m     max_tokens\u001b[39m=\u001b[39;49m\u001b[39m2000\u001b[39;49m,\n\u001b[1;32m     49\u001b[0m     n\u001b[39m=\u001b[39;49m\u001b[39m1\u001b[39;49m,\n\u001b[1;32m     50\u001b[0m     \u001b[39m#logprobs=debug and 5 or 0,\u001b[39;49;00m\n\u001b[1;32m     51\u001b[0m )\n\u001b[1;32m     52\u001b[0m result \u001b[39m=\u001b[39m []\n\u001b[1;32m     53\u001b[0m \u001b[39mfor\u001b[39;00m choice \u001b[39min\u001b[39;00m response\u001b[39m.\u001b[39mget(\u001b[39m'\u001b[39m\u001b[39mchoices\u001b[39m\u001b[39m'\u001b[39m,[{}]):\n",
      "File \u001b[0;32m~/projects/BibleTranslation/venv/lib/python3.8/site-packages/openai/api_resources/chat_completion.py:25\u001b[0m, in \u001b[0;36mChatCompletion.create\u001b[0;34m(cls, *args, **kwargs)\u001b[0m\n\u001b[1;32m     23\u001b[0m \u001b[39mwhile\u001b[39;00m \u001b[39mTrue\u001b[39;00m:\n\u001b[1;32m     24\u001b[0m     \u001b[39mtry\u001b[39;00m:\n\u001b[0;32m---> 25\u001b[0m         \u001b[39mreturn\u001b[39;00m \u001b[39msuper\u001b[39;49m()\u001b[39m.\u001b[39;49mcreate(\u001b[39m*\u001b[39;49margs, \u001b[39m*\u001b[39;49m\u001b[39m*\u001b[39;49mkwargs)\n\u001b[1;32m     26\u001b[0m     \u001b[39mexcept\u001b[39;00m TryAgain \u001b[39mas\u001b[39;00m e:\n\u001b[1;32m     27\u001b[0m         \u001b[39mif\u001b[39;00m timeout \u001b[39mis\u001b[39;00m \u001b[39mnot\u001b[39;00m \u001b[39mNone\u001b[39;00m \u001b[39mand\u001b[39;00m time\u001b[39m.\u001b[39mtime() \u001b[39m>\u001b[39m start \u001b[39m+\u001b[39m timeout:\n",
      "File \u001b[0;32m~/projects/BibleTranslation/venv/lib/python3.8/site-packages/openai/api_resources/abstract/engine_api_resource.py:153\u001b[0m, in \u001b[0;36mEngineAPIResource.create\u001b[0;34m(cls, api_key, api_base, api_type, request_id, api_version, organization, **params)\u001b[0m\n\u001b[1;32m    127\u001b[0m \u001b[39m@classmethod\u001b[39m\n\u001b[1;32m    128\u001b[0m \u001b[39mdef\u001b[39;00m \u001b[39mcreate\u001b[39m(\n\u001b[1;32m    129\u001b[0m     \u001b[39mcls\u001b[39m,\n\u001b[0;32m   (...)\u001b[0m\n\u001b[1;32m    136\u001b[0m     \u001b[39m*\u001b[39m\u001b[39m*\u001b[39mparams,\n\u001b[1;32m    137\u001b[0m ):\n\u001b[1;32m    138\u001b[0m     (\n\u001b[1;32m    139\u001b[0m         deployment_id,\n\u001b[1;32m    140\u001b[0m         engine,\n\u001b[0;32m   (...)\u001b[0m\n\u001b[1;32m    150\u001b[0m         api_key, api_base, api_type, api_version, organization, \u001b[39m*\u001b[39m\u001b[39m*\u001b[39mparams\n\u001b[1;32m    151\u001b[0m     )\n\u001b[0;32m--> 153\u001b[0m     response, _, api_key \u001b[39m=\u001b[39m requestor\u001b[39m.\u001b[39;49mrequest(\n\u001b[1;32m    154\u001b[0m         \u001b[39m\"\u001b[39;49m\u001b[39mpost\u001b[39;49m\u001b[39m\"\u001b[39;49m,\n\u001b[1;32m    155\u001b[0m         url,\n\u001b[1;32m    156\u001b[0m         params\u001b[39m=\u001b[39;49mparams,\n\u001b[1;32m    157\u001b[0m         headers\u001b[39m=\u001b[39;49mheaders,\n\u001b[1;32m    158\u001b[0m         stream\u001b[39m=\u001b[39;49mstream,\n\u001b[1;32m    159\u001b[0m         request_id\u001b[39m=\u001b[39;49mrequest_id,\n\u001b[1;32m    160\u001b[0m         request_timeout\u001b[39m=\u001b[39;49mrequest_timeout,\n\u001b[1;32m    161\u001b[0m     )\n\u001b[1;32m    163\u001b[0m     \u001b[39mif\u001b[39;00m stream:\n\u001b[1;32m    164\u001b[0m         \u001b[39m# must be an iterator\u001b[39;00m\n\u001b[1;32m    165\u001b[0m         \u001b[39massert\u001b[39;00m \u001b[39mnot\u001b[39;00m \u001b[39misinstance\u001b[39m(response, OpenAIResponse)\n",
      "File \u001b[0;32m~/projects/BibleTranslation/venv/lib/python3.8/site-packages/openai/api_requestor.py:298\u001b[0m, in \u001b[0;36mAPIRequestor.request\u001b[0;34m(self, method, url, params, headers, files, stream, request_id, request_timeout)\u001b[0m\n\u001b[1;32m    277\u001b[0m \u001b[39mdef\u001b[39;00m \u001b[39mrequest\u001b[39m(\n\u001b[1;32m    278\u001b[0m     \u001b[39mself\u001b[39m,\n\u001b[1;32m    279\u001b[0m     method,\n\u001b[0;32m   (...)\u001b[0m\n\u001b[1;32m    286\u001b[0m     request_timeout: Optional[Union[\u001b[39mfloat\u001b[39m, Tuple[\u001b[39mfloat\u001b[39m, \u001b[39mfloat\u001b[39m]]] \u001b[39m=\u001b[39m \u001b[39mNone\u001b[39;00m,\n\u001b[1;32m    287\u001b[0m ) \u001b[39m-\u001b[39m\u001b[39m>\u001b[39m Tuple[Union[OpenAIResponse, Iterator[OpenAIResponse]], \u001b[39mbool\u001b[39m, \u001b[39mstr\u001b[39m]:\n\u001b[1;32m    288\u001b[0m     result \u001b[39m=\u001b[39m \u001b[39mself\u001b[39m\u001b[39m.\u001b[39mrequest_raw(\n\u001b[1;32m    289\u001b[0m         method\u001b[39m.\u001b[39mlower(),\n\u001b[1;32m    290\u001b[0m         url,\n\u001b[0;32m   (...)\u001b[0m\n\u001b[1;32m    296\u001b[0m         request_timeout\u001b[39m=\u001b[39mrequest_timeout,\n\u001b[1;32m    297\u001b[0m     )\n\u001b[0;32m--> 298\u001b[0m     resp, got_stream \u001b[39m=\u001b[39m \u001b[39mself\u001b[39;49m\u001b[39m.\u001b[39;49m_interpret_response(result, stream)\n\u001b[1;32m    299\u001b[0m     \u001b[39mreturn\u001b[39;00m resp, got_stream, \u001b[39mself\u001b[39m\u001b[39m.\u001b[39mapi_key\n",
      "File \u001b[0;32m~/projects/BibleTranslation/venv/lib/python3.8/site-packages/openai/api_requestor.py:700\u001b[0m, in \u001b[0;36mAPIRequestor._interpret_response\u001b[0;34m(self, result, stream)\u001b[0m\n\u001b[1;32m    692\u001b[0m     \u001b[39mreturn\u001b[39;00m (\n\u001b[1;32m    693\u001b[0m         \u001b[39mself\u001b[39m\u001b[39m.\u001b[39m_interpret_response_line(\n\u001b[1;32m    694\u001b[0m             line, result\u001b[39m.\u001b[39mstatus_code, result\u001b[39m.\u001b[39mheaders, stream\u001b[39m=\u001b[39m\u001b[39mTrue\u001b[39;00m\n\u001b[1;32m    695\u001b[0m         )\n\u001b[1;32m    696\u001b[0m         \u001b[39mfor\u001b[39;00m line \u001b[39min\u001b[39;00m parse_stream(result\u001b[39m.\u001b[39miter_lines())\n\u001b[1;32m    697\u001b[0m     ), \u001b[39mTrue\u001b[39;00m\n\u001b[1;32m    698\u001b[0m \u001b[39melse\u001b[39;00m:\n\u001b[1;32m    699\u001b[0m     \u001b[39mreturn\u001b[39;00m (\n\u001b[0;32m--> 700\u001b[0m         \u001b[39mself\u001b[39;49m\u001b[39m.\u001b[39;49m_interpret_response_line(\n\u001b[1;32m    701\u001b[0m             result\u001b[39m.\u001b[39;49mcontent\u001b[39m.\u001b[39;49mdecode(\u001b[39m\"\u001b[39;49m\u001b[39mutf-8\u001b[39;49m\u001b[39m\"\u001b[39;49m),\n\u001b[1;32m    702\u001b[0m             result\u001b[39m.\u001b[39;49mstatus_code,\n\u001b[1;32m    703\u001b[0m             result\u001b[39m.\u001b[39;49mheaders,\n\u001b[1;32m    704\u001b[0m             stream\u001b[39m=\u001b[39;49m\u001b[39mFalse\u001b[39;49;00m,\n\u001b[1;32m    705\u001b[0m         ),\n\u001b[1;32m    706\u001b[0m         \u001b[39mFalse\u001b[39;00m,\n\u001b[1;32m    707\u001b[0m     )\n",
      "File \u001b[0;32m~/projects/BibleTranslation/venv/lib/python3.8/site-packages/openai/api_requestor.py:765\u001b[0m, in \u001b[0;36mAPIRequestor._interpret_response_line\u001b[0;34m(self, rbody, rcode, rheaders, stream)\u001b[0m\n\u001b[1;32m    763\u001b[0m stream_error \u001b[39m=\u001b[39m stream \u001b[39mand\u001b[39;00m \u001b[39m\"\u001b[39m\u001b[39merror\u001b[39m\u001b[39m\"\u001b[39m \u001b[39min\u001b[39;00m resp\u001b[39m.\u001b[39mdata\n\u001b[1;32m    764\u001b[0m \u001b[39mif\u001b[39;00m stream_error \u001b[39mor\u001b[39;00m \u001b[39mnot\u001b[39;00m \u001b[39m200\u001b[39m \u001b[39m<\u001b[39m\u001b[39m=\u001b[39m rcode \u001b[39m<\u001b[39m \u001b[39m300\u001b[39m:\n\u001b[0;32m--> 765\u001b[0m     \u001b[39mraise\u001b[39;00m \u001b[39mself\u001b[39m\u001b[39m.\u001b[39mhandle_error_response(\n\u001b[1;32m    766\u001b[0m         rbody, rcode, resp\u001b[39m.\u001b[39mdata, rheaders, stream_error\u001b[39m=\u001b[39mstream_error\n\u001b[1;32m    767\u001b[0m     )\n\u001b[1;32m    768\u001b[0m \u001b[39mreturn\u001b[39;00m resp\n",
      "\u001b[0;31mInvalidRequestError\u001b[0m: ['The beginning of the Good News of Jesus Christ, the Son of God.', 'As it is written in the prophets, “Behold, I send my messenger before your face, who will prepare your way before you:', 'the voice of one crying in the wilderness, ‘Make ready the way of the Lord! Make his paths straight!’”', 'John came baptizing in the wilderness and preaching the baptism of repentance for forgiveness of sins.', 'All the country of Judea and all those of Jerusalem went out to him. They were baptized by him in the Jordan river, confessing their sins.', 'John was clothed with camel’s hair and a leather belt around his waist. He ate locusts and wild honey.', 'He preached, saying, “After me comes he who is mightier than I, the thong of whose sandals I am not worthy to stoop down and loosen.', 'I baptized you in water, but he will baptize you in the Holy Spirit.”', 'In those days, Jesus came from Nazareth of Galilee, and was baptized by John in the Jordan.', 'Immediately coming up from the water, he saw the heavens parting and the Spirit descending on him like a dove.', 'A voice came out of the sky, “You are my beloved Son, in whom I am well pleased.”', 'Immediately the Spirit drove him out into the wilderness.', 'He was there in the wilderness forty days, tempted by Satan. He was with the wild animals; and the angels were serving him.', 'Now after John was taken into custody, Jesus came into Galilee, preaching the Good News of God’s Kingdom,', 'and saying, “The time is fulfilled, and God’s Kingdom is at hand! Repent, and believe in the Good News.”', 'Passing along by the sea of Galilee, he saw Simon and Andrew, the brother of Simon, casting a net into the sea, for they were fishermen.', 'Jesus said to them, “Come after me, and I will make you into fishers for men.”', 'Immediately they left their nets, and followed him.', 'Going on a little further from there, he saw James the son of Zebedee, and John his brother, who were also in the boat mending the nets.', 'Immediately he called them, and they left their father, Zebedee, in the boat with the hired servants, and went after him.'] is not of type 'string' - 'messages.1.content'"
     ]
    }
   ],
   "source": [
    "# Get the column eng-web from the first 3 rows of validate then send it to translate\n",
    "test['translation'] = translate(test['eng-web'].to_list())\n",
    "test"
   ]
  },
  {
   "cell_type": "code",
   "execution_count": null,
   "metadata": {},
   "outputs": [],
   "source": [
    "# drop rows that have a null value in any column\n",
    "test = test.dropna()\n",
    "test['bleu_score'] = test.apply(lambda row: sentence_bleu([row['eng-web'].split(), row['eng-asv'].split(), row['eng-kjv2006'].split(),row['engBBE'].split()], row['translation'].split()), axis=1)"
   ]
  },
  {
   "cell_type": "code",
   "execution_count": null,
   "metadata": {},
   "outputs": [],
   "source": [
    "# describe the bleu score column\n",
    "test['bleu_score'].describe()"
   ]
  },
  {
   "attachments": {},
   "cell_type": "markdown",
   "metadata": {},
   "source": [
    "## Analysis\n",
    "\n",
    "\n",
    "| Stat | Number\n",
    "| ----- | ----- |\n",
    "| Average bleu score |  |\n",
    "| 75 percentile |  |"
   ]
  },
  {
   "cell_type": "code",
   "execution_count": null,
   "metadata": {},
   "outputs": [],
   "source": [
    "# foreach row in validate, print the column \"0\" and translation\n",
    "for index, row in test.iterrows():\n",
    "    print(row['0'], row['translation'])"
   ]
  },
  {
   "cell_type": "markdown",
   "metadata": {},
   "source": [
    "# Handpicked Tests for experimentation\n"
   ]
  },
  {
   "cell_type": "code",
   "execution_count": 52,
   "metadata": {},
   "outputs": [
    {
     "data": {
      "text/plain": [
       "['For God had sent isportor the worly for the fire that he will get evil in now before without evilent:']"
      ]
     },
     "execution_count": 52,
     "metadata": {},
     "output_type": "execute_result"
    }
   ],
   "source": [
    "translate(\"For God so loved the world that he gave his only Son, so that everyone who believes in him may not die but have eternal life.\")"
   ]
  },
  {
   "cell_type": "code",
   "execution_count": 53,
   "metadata": {},
   "outputs": [
    {
     "data": {
      "text/plain": [
       "['And He said, Take thene be flice: and thene welfing had for ofdorder.']"
      ]
     },
     "execution_count": 53,
     "metadata": {},
     "output_type": "execute_result"
    }
   ],
   "source": [
    "translate(\"he said let there be light and there was light\")\n",
    "\n"
   ]
  },
  {
   "cell_type": "code",
   "execution_count": 54,
   "metadata": {},
   "outputs": [
    {
     "data": {
      "text/plain": [
       "['Tavat ma quest, I saat, Go only, go only, go only, go only, go only, go only, go only, go only, go only, go only, go only, go only, go only, go only, go only, go only, go only, go only, go only, go only, go only, go only, go only, go only, go only, go only, go only, go only, go only, go only, go only, go only, go only, go only, go only, go only, go only, go only, go only, go only, go only, go only, go only, go only, go only, go only, go only, go only, go only, go only, go only, go only, go only, go only, go only, go only, go only, go only, go only, go only, go only, go only, go only, go only, go only, go only, go only, go only, go only, go only, go only, go only, go only, go only, go only, go only, go only, go only, go only, go only, go only, go only, go only, go only, go only, go only, go only, go only, go only, go only, go only, go only, go only, go only, go only, go only, go only, go only, go only, go only, go only, go only, go only, go only, go only, go only, go only, go only, go only, go only, go only, go only, go only, go only, go only, go only, go only, go only, go only, go only, go only, go only, go only, go only, go only, go only, go only, go only, go only, go only, go only, go only, go only, go only, go only, go only, go only, go only, go only, go only, go only, go only, go only, go only, go only, go only, go only, go only, go only, go only, go only, go only, go only, go only, go only, go only, go only, go only, go only, go only, go only, go only, go only, go only, go only, go only, go only, go only, go only, go only, go only, go only, go only, go only, go only, go only, go only, go only, go only, go only, go only, go only, go only, go only, go only, go only, go only, go only, go only, go only, go only, go only, go only, go only, go only, go only, go only, go only, go only, go only, go only, go only, go only, go only, go only, go only, go only, go only, go only, go only, go only, go only, go only, go only, go only, go only, go only, go only, go only, go only, go only, go only, go only, go only, go only, go only, go only, go only, go only, go only, go only, go only, go only, go only, go only, go only, go only, go only, go only, go only, go only, go only, go only, go only, go only, go only, go only, go only, go only, go only, go only, go only, go only, go only, go only, go only, go only, go only, go only, go only, go only, go only, go only, go only, go only, go only, go only, go only, go only, go only, go only, go only, go only, go only, go only, go only, go only, go only, go only, go only, go only, go only, go only, go only, go only, go only, go only, go only, go only, go only, go only, go only, go only, go only, go only, go only, go only, go only, go only, go only, go only, go only, go only, go only, go only, go only, go only, go only, go only, go only, go only, go only, go only, go only, go only, go only, go only, go only, go only, go only, go only, go only, go only, go only, go only, go only, go only, go only, go only, go only, go only, go only, go only, go only, go only, go only, go only, go only, go only, go only, go only, go only, go only, go only, go only, go only, go only, go only, go only, go only, go only, go only, go only, go only, go only, go only, go only, go only, go only, go only, go only, go only, go only, go only, go only, go only, go only, go only, go only, go only, go only, go only, go only, go only, go only, go only, go only, go only, go only, go only, go only, go only, go only, go only, go only, go only, go only, go only, go only, go only, go only, go only, go only, go only, go only, go only, go only, go only, go only, go only, go only, go only, go only, go only, go only, go only, go only, go only, go only, go only, go only, go only, go only, go only, go only, go only, go only, go only, go only, go only, go only, go only, go only, go only, go only, go only, go only, go only, go only, go only, go only, go only, go only, go only, go only, go only, go only, go only, go only, go only, go only, go only, go only, go only, go only, go only, go only, go only, go only, go only, go only, go only, go only, go only, go only, go only, go only, go only, go only, go only, go only, go only, go only, go only, go only, go only, go only, go only, go only, go only, go only, go only, go only, go only, go only, go only, go only, go only, go only, go only, go only, go only, go only, go only, go only, go only, go only, go only, go only, go only, go only, go only, go only, go only, go only, go only, go only,']"
      ]
     },
     "execution_count": 54,
     "metadata": {},
     "output_type": "execute_result"
    }
   ],
   "source": [
    "# Try some unknown words\n",
    "translate(\"Bongo bongo I love you, gone to Venus with a hole in my shoe\")"
   ]
  },
  {
   "cell_type": "code",
   "execution_count": 55,
   "metadata": {},
   "outputs": [
    {
     "data": {
      "text/plain": [
       "['¡Je heurs! he has been given the king because of the God!']"
      ]
     },
     "execution_count": 55,
     "metadata": {},
     "output_type": "execute_result"
    }
   ],
   "source": [
    "translate (\"Ship Pit! Pirate ahoy-lay!\")"
   ]
  },
  {
   "cell_type": "code",
   "execution_count": 56,
   "metadata": {},
   "outputs": [
    {
     "data": {
      "text/plain": [
       "['An of the seate, the spouns said, Prispas! prispas!']"
      ]
     },
     "execution_count": 56,
     "metadata": {},
     "output_type": "execute_result"
    }
   ],
   "source": [
    "translate(\"Sheep went baa\")"
   ]
  },
  {
   "cell_type": "code",
   "execution_count": 57,
   "metadata": {},
   "outputs": [],
   "source": [
    "translate(\"Boat a brother on a mountain\")"
   ]
  },
  {
   "cell_type": "code",
   "execution_count": null,
   "metadata": {},
   "outputs": [],
   "source": [
    "translate(\"Be kind and play with rocks!\")"
   ]
  },
  {
   "cell_type": "code",
   "execution_count": null,
   "metadata": {},
   "outputs": [],
   "source": [
    "translate(\"SOS! Ship overboard!! Lost ninty percent of people!\")"
   ]
  }
 ],
 "metadata": {
  "kernelspec": {
   "display_name": "Python 3",
   "language": "python",
   "name": "python3"
  },
  "language_info": {
   "codemirror_mode": {
    "name": "ipython",
    "version": 3
   },
   "file_extension": ".py",
   "mimetype": "text/x-python",
   "name": "python",
   "nbconvert_exporter": "python",
   "pygments_lexer": "ipython3",
   "version": "3.8.9"
  },
  "orig_nbformat": 4,
  "vscode": {
   "interpreter": {
    "hash": "31f2aee4e71d21fbe5cf8b01ff0e069b9275f58929596ceb00d14d90e3e16cd6"
   }
  }
 },
 "nbformat": 4,
 "nbformat_minor": 2
}
