{
 "cells": [
  {
   "attachments": {},
   "cell_type": "markdown",
   "metadata": {},
   "source": [
    "# Create an OpenAI eval\n",
    "Likely the easist way to get this done is to get openAI to add the capabilities to the base model\n",
    "By submitting an eval they will train it to be able to do it"
   ]
  },
  {
   "cell_type": "code",
   "execution_count": 4,
   "metadata": {},
   "outputs": [
    {
     "name": "stdout",
     "output_type": "stream",
     "text": [
      "fetch: 1 object found, done.                                                    \n",
      "fetch: Fetching all references...\n"
     ]
    }
   ],
   "source": [
    "! git lfs fetch --all\n",
    "! git lfs pull"
   ]
  },
  {
   "cell_type": "code",
   "execution_count": 5,
   "metadata": {},
   "outputs": [
    {
     "name": "stdout",
     "output_type": "stream",
     "text": [
      "Cloning into 'evals'...\n",
      "remote: Enumerating objects: 1254, done.\u001b[K\n",
      "remote: Counting objects: 100% (490/490), done.\u001b[K\n",
      "remote: Compressing objects: 100% (147/147), done.\u001b[K\n",
      "remote: Total 1254 (delta 401), reused 389 (delta 337), pack-reused 764\u001b[K\n",
      "Receiving objects: 100% (1254/1254), 452.80 KiB | 896.00 KiB/s, done.\n",
      "Resolving deltas: 100% (638/638), done.\n",
      "Filtering content: 100% (77/77), 119.95 MiB | 15.13 MiB/s, done.\n"
     ]
    }
   ],
   "source": [
    "! git clone https://github.com/openai/evals.git"
   ]
  },
  {
   "cell_type": "code",
   "execution_count": 8,
   "metadata": {},
   "outputs": [],
   "source": [
    "! cd evals"
   ]
  },
  {
   "cell_type": "code",
   "execution_count": 9,
   "metadata": {},
   "outputs": [],
   "source": [
    "! python3 -m venv ./venv"
   ]
  },
  {
   "attachments": {},
   "cell_type": "markdown",
   "metadata": {},
   "source": [
    "I mean for other languages.  Languages that only have a new testament and have no old testament yet\n",
    "In some languages, only the New Testament has been translated, often because the work is still in progress, or the translation is intended for specific outreach purposes. It is important to note that translation efforts are ongoing, and the availability of translations in various languages may change over time.\n",
    "\n",
    "As of my knowledge cutoff date in September 2021, some languages with New Testament translations but no complete Old Testament translations include:\n",
    "\n",
    "Awa-Cuaiquer (spoken in Colombia and Ecuador)\n",
    "Bafaw-Balong (spoken in Cameroon)\n",
    "Baka (spoken in Cameroon and Gabon)\n",
    "Bambalang (spoken in Cameroon)\n",
    "Boko (spoken in Benin and Nigeria)\n",
    "This list is not exhaustive, and there may be other languages with New Testament translations but no complete Old Testament translations. Additionally, translation projects are ongoing, and the availability of translations in these languages may change over time. Organizations like Wycliffe Bible Translators, SIL International, and United Bible Societies are often involved in translating the Bible into new languages and updating existing translations.\n",
    "\n",
    "\n",
    "\n",
    "\n",
    "Chris Priebe\n",
    "What is John 1:1 in the language Boko.  If your not sure about a word put a ? beside it\n",
    "I apologize for any confusion earlier, but I am unable to provide you with a translation of John 1:1 in the Boko language. My training data includes many languages, but it may not cover all Bible translations for every language, especially those with limited resources or translations. Consequently, I am unable to provide a reliable translation for John 1:1 in Boko.\n",
    "\n",
    "then do it in any language that only has a new testament and no old testament\n",
    "Here is John 1:1 in the Dhao language, which at the time of my last training data update in September 2021, had only the New Testament translated:\n",
    "\n",
    "Dhao (spoken in Indonesia):\n",
    "\"Nggalo loko do'ano palé, do'ano palé si mala Ama, do'ano palé Ama si mala.\"\n",
    "\n",
    "In English, this translates to:\n",
    "\"In the beginning was the Word, and the Word was with God, and the Word was God.\"\n",
    "\n",
    "Please note that translation projects are ongoing, and the availability of translations in these languages may change over time.\n",
    "\n",
    "Translating the entire Old Testament into the Dhao language is a complex and extensive task that would likely be beyond the scope of what could be accomplished through a series of prompts in this AI-based platform. A full Bible translation typically involves a team of skilled linguists, theologians, and native speakers working together over an extended period to ensure an accurate and culturally appropriate translation.\n",
    "\n",
    "However, if you'd like assistance with translating specific verses or passages from the Old Testament into Dhao, you could provide a prompt that includes the verse reference and the English text you'd like translated. For example:\n",
    "\n",
    "\"Translate the following verse from the Old Testament into Dhao: Genesis 1:1 - 'In the beginning God created the heavens and the earth.'\"\n",
    "\n",
    "Please note that while I can attempt to provide translations for specific passages, my translations may not be perfect or as accurate as those produced by a team of experts working together on a full-scale translation project."
   ]
  },
  {
   "cell_type": "code",
   "execution_count": 13,
   "metadata": {},
   "outputs": [
    {
     "name": "stdout",
     "output_type": "stream",
     "text": [
      "zsh:1: permission denied: ./venv/bin/activate\n"
     ]
    }
   ],
   "source": [
    "! ./venv/bin/activate"
   ]
  }
 ],
 "metadata": {
  "kernelspec": {
   "display_name": "Python 3",
   "language": "python",
   "name": "python3"
  },
  "language_info": {
   "codemirror_mode": {
    "name": "ipython",
    "version": 3
   },
   "file_extension": ".py",
   "mimetype": "text/x-python",
   "name": "python",
   "nbconvert_exporter": "python",
   "pygments_lexer": "ipython3",
   "version": "3.8.9 (default, Oct 26 2021, 07:25:53) \n[Clang 13.0.0 (clang-1300.0.29.30)]"
  },
  "orig_nbformat": 4,
  "vscode": {
   "interpreter": {
    "hash": "31f2aee4e71d21fbe5cf8b01ff0e069b9275f58929596ceb00d14d90e3e16cd6"
   }
  }
 },
 "nbformat": 4,
 "nbformat_minor": 2
}
