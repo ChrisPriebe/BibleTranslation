{
 "cells": [
  {
   "attachments": {},
   "cell_type": "markdown",
   "metadata": {},
   "source": [
    "# Attempt to fine-tune GPT3 to translate between languages\n",
    "The first language will be our made up language (see notes on get_bible as to why we think GPT is cheating)\n",
    "The thesis is that fine-tuning will cause GPT3 to learn the fake language as a new language by assigning the embeddings of the\n",
    "new words essentially to the same dimensional space as the english.  Should be trivial to translate it back as it is a word \n",
    "for word translation.\n",
    "\n"
   ]
  },
  {
   "cell_type": "code",
   "execution_count": 5,
   "metadata": {},
   "outputs": [],
   "source": [
    "from lib.config import get_config\n",
    "import pandas as pd\n",
    "\n",
    "bible = pd.read_csv('data/bible.csv')\n",
    "\n",
    "# Assuming the gospels have a lot of overlap include the synoptic gospels plus John to train\n",
    "# then predict Mark (which should be easy as Matthew and Luke may have copied from him)\n",
    "train = bible[bible['book'].isin(['MAT','LUK','JHN'])]\n",
    "validate = bible[bible['book'].isin(['MRK'])]"
   ]
  },
  {
   "cell_type": "code",
   "execution_count": 6,
   "metadata": {},
   "outputs": [
    {
     "data": {
      "text/html": [
       "<div>\n",
       "<style scoped>\n",
       "    .dataframe tbody tr th:only-of-type {\n",
       "        vertical-align: middle;\n",
       "    }\n",
       "\n",
       "    .dataframe tbody tr th {\n",
       "        vertical-align: top;\n",
       "    }\n",
       "\n",
       "    .dataframe thead th {\n",
       "        text-align: right;\n",
       "    }\n",
       "</style>\n",
       "<table border=\"1\" class=\"dataframe\">\n",
       "  <thead>\n",
       "    <tr style=\"text-align: right;\">\n",
       "      <th></th>\n",
       "      <th>0</th>\n",
       "      <th>book</th>\n",
       "      <th>chapter</th>\n",
       "      <th>verse</th>\n",
       "      <th>eng-web</th>\n",
       "      <th>eng-asv</th>\n",
       "      <th>eng-kjv2006</th>\n",
       "      <th>engBBE</th>\n",
       "      <th>birrig</th>\n",
       "    </tr>\n",
       "  </thead>\n",
       "  <tbody>\n",
       "    <tr>\n",
       "      <th>23213</th>\n",
       "      <td>MAT 1:1</td>\n",
       "      <td>MAT</td>\n",
       "      <td>1</td>\n",
       "      <td>1</td>\n",
       "      <td>The book of the genealogy of Jesus Christ, the...</td>\n",
       "      <td>The book of the generation of Jesus Christ, th...</td>\n",
       "      <td>The book of the generation of Jesus Christ, th...</td>\n",
       "      <td>The book of the generations of Jesus Christ, t...</td>\n",
       "      <td>Lxi fuuc us lxi girivelourz us Yizaz Kxvozl, l...</td>\n",
       "    </tr>\n",
       "    <tr>\n",
       "      <th>23214</th>\n",
       "      <td>MAT 1:2</td>\n",
       "      <td>MAT</td>\n",
       "      <td>1</td>\n",
       "      <td>2</td>\n",
       "      <td>Abraham became the father of Isaac. Isaac beca...</td>\n",
       "      <td>Abraham begat Isaac; and Isaac begat Jacob; an...</td>\n",
       "      <td>Abraham begat Isaac; and Isaac begat Jacob; an...</td>\n",
       "      <td>The son of Abraham was Isaac; and the son of I...</td>\n",
       "      <td>Lxi zur us Efvexen hez Ozeek; erw lxi zur us O...</td>\n",
       "    </tr>\n",
       "    <tr>\n",
       "      <th>23215</th>\n",
       "      <td>MAT 1:3</td>\n",
       "      <td>MAT</td>\n",
       "      <td>1</td>\n",
       "      <td>3</td>\n",
       "      <td>Judah became the father of Perez and Zerah by ...</td>\n",
       "      <td>and Judah begat Perez and Zerah of Tamar; and ...</td>\n",
       "      <td>And Judas begat Phares and Zara of Thamar; and...</td>\n",
       "      <td>And the sons of Judah were Perez and Zerah by ...</td>\n",
       "      <td>Erw lxi zurz us Yawex hivi Qivid erw Divex fj ...</td>\n",
       "    </tr>\n",
       "    <tr>\n",
       "      <th>23216</th>\n",
       "      <td>MAT 1:4</td>\n",
       "      <td>MAT</td>\n",
       "      <td>1</td>\n",
       "      <td>4</td>\n",
       "      <td>Ram became the father of Amminadab. Amminadab ...</td>\n",
       "      <td>and Ram begat Amminadab; and Amminadab begat N...</td>\n",
       "      <td>And Aram begat Aminadab; and Aminadab begat Na...</td>\n",
       "      <td>And the son of Ram was Amminadab; and the son ...</td>\n",
       "      <td>Erw lxi zur us Ven hez Ennorewef; erw lxi zur ...</td>\n",
       "    </tr>\n",
       "    <tr>\n",
       "      <th>23217</th>\n",
       "      <td>MAT 1:5</td>\n",
       "      <td>MAT</td>\n",
       "      <td>1</td>\n",
       "      <td>5</td>\n",
       "      <td>Salmon became the father of Boaz by Rahab. Boa...</td>\n",
       "      <td>and Salmon begat Boaz of Rahab; and Boaz begat...</td>\n",
       "      <td>And Salmon begat Booz of Rachab; and Booz bega...</td>\n",
       "      <td>And the son of Salmon by Rahab was Boaz; and t...</td>\n",
       "      <td>Erw lxi zur us Zepnur fj Vexef hez Fued; erw l...</td>\n",
       "    </tr>\n",
       "    <tr>\n",
       "      <th>...</th>\n",
       "      <td>...</td>\n",
       "      <td>...</td>\n",
       "      <td>...</td>\n",
       "      <td>...</td>\n",
       "      <td>...</td>\n",
       "      <td>...</td>\n",
       "      <td>...</td>\n",
       "      <td>...</td>\n",
       "      <td>...</td>\n",
       "    </tr>\n",
       "    <tr>\n",
       "      <th>26987</th>\n",
       "      <td>JHN 21:21</td>\n",
       "      <td>JHN</td>\n",
       "      <td>21</td>\n",
       "      <td>21</td>\n",
       "      <td>Peter, seeing him, said to Jesus, “Lord, what ...</td>\n",
       "      <td>Peter therefore seeing him saith to Jesus, Lor...</td>\n",
       "      <td>Peter seeing him saith to Jesus, Lord, and wha...</td>\n",
       "      <td>Seeing him, Peter said to Jesus, What about th...</td>\n",
       "      <td>Ziiorg xon, Qiliv zeow lu Yizaz, Hxel efual lx...</td>\n",
       "    </tr>\n",
       "    <tr>\n",
       "      <th>26988</th>\n",
       "      <td>JHN 21:22</td>\n",
       "      <td>JHN</td>\n",
       "      <td>21</td>\n",
       "      <td>22</td>\n",
       "      <td>Jesus said to him, “If I desire that he stay u...</td>\n",
       "      <td>Jesus saith unto him, If I will that he tarry ...</td>\n",
       "      <td>Jesus saith unto him, If I will that he tarry ...</td>\n",
       "      <td>Jesus said to him, If it is my desire for him ...</td>\n",
       "      <td>Yizaz zeow lu xon, Os ol oz nj wizovi suv xon ...</td>\n",
       "    </tr>\n",
       "    <tr>\n",
       "      <th>26989</th>\n",
       "      <td>JHN 21:23</td>\n",
       "      <td>JHN</td>\n",
       "      <td>21</td>\n",
       "      <td>23</td>\n",
       "      <td>This saying therefore went out among the broth...</td>\n",
       "      <td>This saying therefore went forth among the bre...</td>\n",
       "      <td>Then went this saying abroad among the brethre...</td>\n",
       "      <td>So this saying went about among the brothers t...</td>\n",
       "      <td>Zu lxoz zejorg hirl efual enurg lxi fvulxivz l...</td>\n",
       "    </tr>\n",
       "    <tr>\n",
       "      <th>26990</th>\n",
       "      <td>JHN 21:24</td>\n",
       "      <td>JHN</td>\n",
       "      <td>21</td>\n",
       "      <td>24</td>\n",
       "      <td>This is the disciple who testifies about these...</td>\n",
       "      <td>This is the disciple that beareth witness of t...</td>\n",
       "      <td>This is the disciple which testifieth of these...</td>\n",
       "      <td>This is the disciple who gives witness about t...</td>\n",
       "      <td>Lxoz oz lxi wozkoqpi hxu gomiz holrizz efual l...</td>\n",
       "    </tr>\n",
       "    <tr>\n",
       "      <th>26991</th>\n",
       "      <td>JHN 21:25</td>\n",
       "      <td>JHN</td>\n",
       "      <td>21</td>\n",
       "      <td>25</td>\n",
       "      <td>There are also many other things which Jesus d...</td>\n",
       "      <td>And there are also many other things which Jes...</td>\n",
       "      <td>And there are also many other things which Jes...</td>\n",
       "      <td>And Jesus did such a number of other things th...</td>\n",
       "      <td>Erw Yizaz wow zakx e ranfiv us ulxiv lxorgz lx...</td>\n",
       "    </tr>\n",
       "  </tbody>\n",
       "</table>\n",
       "<p>3101 rows × 9 columns</p>\n",
       "</div>"
      ],
      "text/plain": [
       "               0 book  chapter  verse  \\\n",
       "23213    MAT 1:1  MAT        1      1   \n",
       "23214    MAT 1:2  MAT        1      2   \n",
       "23215    MAT 1:3  MAT        1      3   \n",
       "23216    MAT 1:4  MAT        1      4   \n",
       "23217    MAT 1:5  MAT        1      5   \n",
       "...          ...  ...      ...    ...   \n",
       "26987  JHN 21:21  JHN       21     21   \n",
       "26988  JHN 21:22  JHN       21     22   \n",
       "26989  JHN 21:23  JHN       21     23   \n",
       "26990  JHN 21:24  JHN       21     24   \n",
       "26991  JHN 21:25  JHN       21     25   \n",
       "\n",
       "                                                 eng-web  \\\n",
       "23213  The book of the genealogy of Jesus Christ, the...   \n",
       "23214  Abraham became the father of Isaac. Isaac beca...   \n",
       "23215  Judah became the father of Perez and Zerah by ...   \n",
       "23216  Ram became the father of Amminadab. Amminadab ...   \n",
       "23217  Salmon became the father of Boaz by Rahab. Boa...   \n",
       "...                                                  ...   \n",
       "26987  Peter, seeing him, said to Jesus, “Lord, what ...   \n",
       "26988  Jesus said to him, “If I desire that he stay u...   \n",
       "26989  This saying therefore went out among the broth...   \n",
       "26990  This is the disciple who testifies about these...   \n",
       "26991  There are also many other things which Jesus d...   \n",
       "\n",
       "                                                 eng-asv  \\\n",
       "23213  The book of the generation of Jesus Christ, th...   \n",
       "23214  Abraham begat Isaac; and Isaac begat Jacob; an...   \n",
       "23215  and Judah begat Perez and Zerah of Tamar; and ...   \n",
       "23216  and Ram begat Amminadab; and Amminadab begat N...   \n",
       "23217  and Salmon begat Boaz of Rahab; and Boaz begat...   \n",
       "...                                                  ...   \n",
       "26987  Peter therefore seeing him saith to Jesus, Lor...   \n",
       "26988  Jesus saith unto him, If I will that he tarry ...   \n",
       "26989  This saying therefore went forth among the bre...   \n",
       "26990  This is the disciple that beareth witness of t...   \n",
       "26991  And there are also many other things which Jes...   \n",
       "\n",
       "                                             eng-kjv2006  \\\n",
       "23213  The book of the generation of Jesus Christ, th...   \n",
       "23214  Abraham begat Isaac; and Isaac begat Jacob; an...   \n",
       "23215  And Judas begat Phares and Zara of Thamar; and...   \n",
       "23216  And Aram begat Aminadab; and Aminadab begat Na...   \n",
       "23217  And Salmon begat Booz of Rachab; and Booz bega...   \n",
       "...                                                  ...   \n",
       "26987  Peter seeing him saith to Jesus, Lord, and wha...   \n",
       "26988  Jesus saith unto him, If I will that he tarry ...   \n",
       "26989  Then went this saying abroad among the brethre...   \n",
       "26990  This is the disciple which testifieth of these...   \n",
       "26991  And there are also many other things which Jes...   \n",
       "\n",
       "                                                  engBBE  \\\n",
       "23213  The book of the generations of Jesus Christ, t...   \n",
       "23214  The son of Abraham was Isaac; and the son of I...   \n",
       "23215  And the sons of Judah were Perez and Zerah by ...   \n",
       "23216  And the son of Ram was Amminadab; and the son ...   \n",
       "23217  And the son of Salmon by Rahab was Boaz; and t...   \n",
       "...                                                  ...   \n",
       "26987  Seeing him, Peter said to Jesus, What about th...   \n",
       "26988  Jesus said to him, If it is my desire for him ...   \n",
       "26989  So this saying went about among the brothers t...   \n",
       "26990  This is the disciple who gives witness about t...   \n",
       "26991  And Jesus did such a number of other things th...   \n",
       "\n",
       "                                                  birrig  \n",
       "23213  Lxi fuuc us lxi girivelourz us Yizaz Kxvozl, l...  \n",
       "23214  Lxi zur us Efvexen hez Ozeek; erw lxi zur us O...  \n",
       "23215  Erw lxi zurz us Yawex hivi Qivid erw Divex fj ...  \n",
       "23216  Erw lxi zur us Ven hez Ennorewef; erw lxi zur ...  \n",
       "23217  Erw lxi zur us Zepnur fj Vexef hez Fued; erw l...  \n",
       "...                                                  ...  \n",
       "26987  Ziiorg xon, Qiliv zeow lu Yizaz, Hxel efual lx...  \n",
       "26988  Yizaz zeow lu xon, Os ol oz nj wizovi suv xon ...  \n",
       "26989  Zu lxoz zejorg hirl efual enurg lxi fvulxivz l...  \n",
       "26990  Lxoz oz lxi wozkoqpi hxu gomiz holrizz efual l...  \n",
       "26991  Erw Yizaz wow zakx e ranfiv us ulxiv lxorgz lx...  \n",
       "\n",
       "[3101 rows x 9 columns]"
      ]
     },
     "execution_count": 6,
     "metadata": {},
     "output_type": "execute_result"
    }
   ],
   "source": [
    "train"
   ]
  },
  {
   "cell_type": "code",
   "execution_count": 7,
   "metadata": {},
   "outputs": [],
   "source": [
    "df2 = pd.DataFrame({'prompt': train['engBBE'], 'completion': train['birrig']})\n",
    "df2['completion'] = df2['completion'].apply(lambda x: \" \" + x + '\\n###')\n",
    "df2['prompt'] = df2['prompt'].apply(lambda x: x + \"\\n\\n###\\n\\n\")\n",
    "df2.to_json('data/train.jsonl', orient='records', lines=True)\n"
   ]
  },
  {
   "cell_type": "code",
   "execution_count": 12,
   "metadata": {},
   "outputs": [],
   "source": [
    "\n",
    "# set environment variable in ipython notebook\n",
    "import os\n",
    "os.environ[\"OPENAI_API_KEY\"] = get_config('openai')['api_key']\n",
    "\n",
    "\n"
   ]
  },
  {
   "cell_type": "code",
   "execution_count": 20,
   "metadata": {},
   "outputs": [
    {
     "name": "stdout",
     "output_type": "stream",
     "text": [
      "Analyzing...\n",
      "\n",
      "- Your file contains 3101 prompt-completion pairs\n",
      "- There are 13 duplicated prompt-completion sets. These are rows: [403, 593, 787, 886, 1364, 1395, 1399, 1670, 1675, 1864, 2036, 2129, 2391]\n",
      "- All prompts end with suffix `\\n\\n###\\n\\n`\n",
      "- All completions end with suffix `\\n###`\n",
      "\n",
      "Based on the analysis we will perform the following actions:\n",
      "- [Recommended] Remove 13 duplicate rows [Y/n]: Y\n",
      "\n",
      "\n",
      "Your data will be written to a new JSONL file. Proceed [Y/n]: Y\n",
      "\n",
      "Wrote modified file to `data/train_prepared.jsonl`\n",
      "Feel free to take a look!\n",
      "\n",
      "Now use that file when fine-tuning:\n",
      "> openai api fine_tunes.create -t \"data/train_prepared.jsonl\"\n",
      "\n",
      "After you’ve fine-tuned a model, remember that your prompt has to end with the indicator string `\\n\\n###\\n\\n` for the model to start generating completions, rather than continuing with the prompt. Make sure to include `stop=[\"\\n###\"]` so that the generated texts ends at the expected place.\n",
      "Once your model starts training, it'll approximately take 2.04 hours to train a `curie` model, and less for `ada` and `babbage`. Queue will approximately take half an hour per job ahead of you.\n"
     ]
    }
   ],
   "source": [
    "!python3 /Users/chrispriebe/Library/Python/3.8/lib/python/site-packages/openai/_openai_scripts.py tools fine_tunes.prepare_data -f data/train.jsonl -q"
   ]
  },
  {
   "cell_type": "code",
   "execution_count": 21,
   "metadata": {},
   "outputs": [
    {
     "name": "stdout",
     "output_type": "stream",
     "text": [
      "Upload progress: 100%|███████████████████████| 871k/871k [00:00<00:00, 650Mit/s]\n",
      "Uploaded file from data/train_prepared.jsonl: file-Kz9OeIePo1hXszuPaZ12yBeU\n",
      "Created fine-tune: ft-MPF2xw4JKKURr7gU4EsxRERI\n",
      "Streaming events until fine-tuning is complete...\n",
      "\n",
      "(Ctrl-C will interrupt the stream, but not cancel the fine-tune)\n",
      "[2023-03-28 15:49:45] Created fine-tune: ft-MPF2xw4JKKURr7gU4EsxRERI\n",
      "\n",
      "Stream interrupted (client disconnected).\n",
      "To resume the stream, run:\n",
      "\n",
      "  openai api fine_tunes.follow -i ft-MPF2xw4JKKURr7gU4EsxRERI\n",
      "\n"
     ]
    }
   ],
   "source": [
    "!python3 /Users/chrispriebe/Library/Python/3.8/lib/python/site-packages/openai/_openai_scripts.py api fine_tunes.create -t \"data/train_prepared.jsonl\""
   ]
  },
  {
   "cell_type": "code",
   "execution_count": 22,
   "metadata": {},
   "outputs": [
    {
     "name": "stdout",
     "output_type": "stream",
     "text": [
      "[2023-03-28 15:49:45] Created fine-tune: ft-MPF2xw4JKKURr7gU4EsxRERI\n",
      "[2023-03-28 15:52:43] Fine-tune costs $3.49\n",
      "[2023-03-28 15:52:44] Fine-tune enqueued. Queue number: 0\n",
      "[2023-03-28 15:52:46] Fine-tune started\n",
      "[2023-03-28 15:59:37] Completed epoch 1/4\n",
      "[2023-03-28 16:05:24] Completed epoch 2/4\n",
      "[2023-03-28 16:11:12] Completed epoch 3/4\n",
      "[2023-03-28 16:16:56] Completed epoch 4/4\n",
      "[2023-03-28 16:17:19] Uploaded model: curie:ft-personal-2023-03-28-23-17-19\n",
      "[2023-03-28 16:17:20] Uploaded result file: file-pFzh535nCK6OpPnjWBM65LxZ\n",
      "[2023-03-28 16:17:20] Fine-tune succeeded\n",
      "\n",
      "Job complete! Status: succeeded 🎉\n",
      "Try out your fine-tuned model:\n",
      "\n",
      "openai api completions.create -m curie:ft-personal-2023-03-28-23-17-19 -p <YOUR_PROMPT>\n"
     ]
    }
   ],
   "source": [
    "!python3 /Users/chrispriebe/Library/Python/3.8/lib/python/site-packages/openai/_openai_scripts.py api fine_tunes.follow -i ft-MPF2xw4JKKURr7gU4EsxRERI"
   ]
  },
  {
   "cell_type": "code",
   "execution_count": 35,
   "metadata": {},
   "outputs": [],
   "source": [
    "import openai\n",
    "from lib.cipher import substitution_cipher\n",
    "from nltk.translate.bleu_score import sentence_bleu\n",
    "\n",
    "openai.api_key = os.getenv(\"OPENAI_API_KEY\")\n",
    "\n",
    "def translate(text):\n",
    "    response = openai.Completion.create(\n",
    "        model=\"curie:ft-personal-2023-03-28-23-17-19\",\n",
    "        prompt=text + \"\\n\\n###\\n\\n\",\n",
    "        temperature=0.2,\n",
    "        max_tokens=100,\n",
    "        top_p=1,\n",
    "        frequency_penalty=0,\n",
    "        presence_penalty=0,\n",
    "        stop=[\"\\n###\"]\n",
    "    )\n",
    "    translation = response.get('choices',[{}])[0].get('text').strip()\n",
    "    decoded_translation = substitution_cipher(translation, encode=False).strip()\n",
    "    bleu_score = sentence_bleu([text.split()], decoded_translation.split())\n",
    "    \n",
    "    return (translation, decoded_translation, bleu_score)"
   ]
  },
  {
   "cell_type": "code",
   "execution_count": 36,
   "metadata": {},
   "outputs": [
    {
     "data": {
      "text/plain": [
       "('Suv Guw zu pumiw ni lxel xi gemi ni rih posi or xoz corgwun',\n",
       " 'For God so loved me that he gave me new life in his kingdom',\n",
       " 1.0)"
      ]
     },
     "execution_count": 36,
     "metadata": {},
     "output_type": "execute_result"
    }
   ],
   "source": [
    "translate(\"For God so loved me that he gave me new life in his kingdom\")"
   ]
  },
  {
   "cell_type": "code",
   "execution_count": 37,
   "metadata": {},
   "outputs": [
    {
     "data": {
      "text/plain": [
       "('Furgu furgu O pumi jua, guri lu Muriz holx e xupi or nj zxuiz',\n",
       " 'Bongo bongo I love you, gone to Vones with a hole in my shoes',\n",
       " 0.6997522298221912)"
      ]
     },
     "execution_count": 37,
     "metadata": {},
     "output_type": "execute_result"
    }
   ],
   "source": [
    "# Try some unknown words\n",
    "translate(\"Bongo bongo I love you, gone to Venus with a hole in my shoe\")"
   ]
  }
 ],
 "metadata": {
  "kernelspec": {
   "display_name": "Python 3",
   "language": "python",
   "name": "python3"
  },
  "language_info": {
   "codemirror_mode": {
    "name": "ipython",
    "version": 3
   },
   "file_extension": ".py",
   "mimetype": "text/x-python",
   "name": "python",
   "nbconvert_exporter": "python",
   "pygments_lexer": "ipython3",
   "version": "3.8.9"
  },
  "orig_nbformat": 4,
  "vscode": {
   "interpreter": {
    "hash": "31f2aee4e71d21fbe5cf8b01ff0e069b9275f58929596ceb00d14d90e3e16cd6"
   }
  }
 },
 "nbformat": 4,
 "nbformat_minor": 2
}
