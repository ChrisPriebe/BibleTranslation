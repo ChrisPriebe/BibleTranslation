{
 "cells": [
  {
   "attachments": {},
   "cell_type": "markdown",
   "metadata": {},
   "source": [
    "# Attempt to fine-tune GPT3 to translate between languages\n",
    "The first language will be our made up language (see notes on get_bible as to why we think GPT is cheating)\n",
    "The thesis is that fine-tuning will cause GPT3 to learn the fake language as a new language by assigning the embeddings of the\n",
    "new words essentially to the same dimensional space as the english.  Should be trivial to translate it back as it is a word \n",
    "for word translation.\n",
    "\n"
   ]
  },
  {
   "cell_type": "code",
   "execution_count": null,
   "metadata": {},
   "outputs": [],
   "source": [
    "# Q. what is John 3:2?\n"
   ]
  },
  {
   "cell_type": "code",
   "execution_count": null,
   "metadata": {},
   "outputs": [],
   "source": [
    "from lib.config import get_config\n",
    "import pandas as pd\n",
    "\n",
    "bible = pd.read_csv('data/bible.bbe.csv')\n",
    "\n",
    "# Assuming the gospels have a lot of overlap include the synoptic gospels plus John to train\n",
    "# then predict Mark (which should be easy as Matthew and Luke may have copied from him)\n",
    "train = bible[bible['book'].isin(['MAT','LUK','JHN'])]\n",
    "validate = bible[bible['book'].isin(['MRK'])]"
   ]
  },
  {
   "cell_type": "code",
   "execution_count": 223,
   "metadata": {},
   "outputs": [
    {
     "data": {
      "text/html": [
       "<div>\n",
       "<style scoped>\n",
       "    .dataframe tbody tr th:only-of-type {\n",
       "        vertical-align: middle;\n",
       "    }\n",
       "\n",
       "    .dataframe tbody tr th {\n",
       "        vertical-align: top;\n",
       "    }\n",
       "\n",
       "    .dataframe thead th {\n",
       "        text-align: right;\n",
       "    }\n",
       "</style>\n",
       "<table border=\"1\" class=\"dataframe\">\n",
       "  <thead>\n",
       "    <tr style=\"text-align: right;\">\n",
       "      <th></th>\n",
       "      <th>0</th>\n",
       "      <th>book</th>\n",
       "      <th>chapter</th>\n",
       "      <th>verse</th>\n",
       "      <th>eng-web</th>\n",
       "      <th>eng-asv</th>\n",
       "      <th>eng-kjv2006</th>\n",
       "      <th>engBBE</th>\n",
       "      <th>engWycliffe</th>\n",
       "      <th>birrig</th>\n",
       "    </tr>\n",
       "  </thead>\n",
       "  <tbody>\n",
       "    <tr>\n",
       "      <th>26113</th>\n",
       "      <td>JHN 1:1</td>\n",
       "      <td>JHN</td>\n",
       "      <td>1</td>\n",
       "      <td>1</td>\n",
       "      <td>In the beginning was the Word, and the Word wa...</td>\n",
       "      <td>In the beginning was the Word, and the Word wa...</td>\n",
       "      <td>In the beginning was the Word, and the Word wa...</td>\n",
       "      <td>From the first he was the Word, and the Word w...</td>\n",
       "      <td>In the bigynnyng was the word, and the word wa...</td>\n",
       "      <td>Svun lxi sovzl xi hez lxi Huvw, erw lxi Huvw h...</td>\n",
       "    </tr>\n",
       "    <tr>\n",
       "      <th>26114</th>\n",
       "      <td>JHN 1:2</td>\n",
       "      <td>JHN</td>\n",
       "      <td>1</td>\n",
       "      <td>2</td>\n",
       "      <td>The same was in the beginning with God.</td>\n",
       "      <td>The same was in the beginning with God.</td>\n",
       "      <td>The same was in the beginning with God.</td>\n",
       "      <td>This Word was from the first in relation with ...</td>\n",
       "      <td>This was in the bigynnyng at God.</td>\n",
       "      <td>Lxoz Huvw hez svun lxi sovzl or vipelour holx ...</td>\n",
       "    </tr>\n",
       "    <tr>\n",
       "      <th>26115</th>\n",
       "      <td>JHN 1:3</td>\n",
       "      <td>JHN</td>\n",
       "      <td>1</td>\n",
       "      <td>3</td>\n",
       "      <td>All things were made through him. Without him,...</td>\n",
       "      <td>All things were made through him; and without ...</td>\n",
       "      <td>All things were made by him; and without him w...</td>\n",
       "      <td>All things came into existence through him, an...</td>\n",
       "      <td>Alle thingis weren maad bi hym, and withouten ...</td>\n",
       "      <td>Epp lxorgz keni orlu ibozlirki lxvuagx xon, er...</td>\n",
       "    </tr>\n",
       "    <tr>\n",
       "      <th>26116</th>\n",
       "      <td>JHN 1:4</td>\n",
       "      <td>JHN</td>\n",
       "      <td>1</td>\n",
       "      <td>4</td>\n",
       "      <td>In him was life, and the life was the light of...</td>\n",
       "      <td>In him was life; and the life was the light of...</td>\n",
       "      <td>In him was life; and the life was the light of...</td>\n",
       "      <td>What came into existence in him was life, and ...</td>\n",
       "      <td>In hym was lijf, and the lijf was the liyt of ...</td>\n",
       "      <td>Hxel keni orlu ibozlirki or xon hez posi, erw ...</td>\n",
       "    </tr>\n",
       "    <tr>\n",
       "      <th>26117</th>\n",
       "      <td>JHN 1:5</td>\n",
       "      <td>JHN</td>\n",
       "      <td>1</td>\n",
       "      <td>5</td>\n",
       "      <td>The light shines in the darkness, and the dark...</td>\n",
       "      <td>And the light shineth in the darkness; and the...</td>\n",
       "      <td>And the light shineth in darkness; and the dar...</td>\n",
       "      <td>And the light goes on shining in the dark; it ...</td>\n",
       "      <td>and derknessis comprehendiden not it.</td>\n",
       "      <td>Erw lxi pogxl guiz ur zxororg or lxi wevc; ol ...</td>\n",
       "    </tr>\n",
       "    <tr>\n",
       "      <th>...</th>\n",
       "      <td>...</td>\n",
       "      <td>...</td>\n",
       "      <td>...</td>\n",
       "      <td>...</td>\n",
       "      <td>...</td>\n",
       "      <td>...</td>\n",
       "      <td>...</td>\n",
       "      <td>...</td>\n",
       "      <td>...</td>\n",
       "      <td>...</td>\n",
       "    </tr>\n",
       "    <tr>\n",
       "      <th>26987</th>\n",
       "      <td>JHN 21:21</td>\n",
       "      <td>JHN</td>\n",
       "      <td>21</td>\n",
       "      <td>21</td>\n",
       "      <td>Peter, seeing him, said to Jesus, “Lord, what ...</td>\n",
       "      <td>Peter therefore seeing him saith to Jesus, Lor...</td>\n",
       "      <td>Peter seeing him saith to Jesus, Lord, and wha...</td>\n",
       "      <td>Seeing him, Peter said to Jesus, What about th...</td>\n",
       "      <td>Therfor whanne Petre hadde seyn this, he seith...</td>\n",
       "      <td>Ziiorg xon, Qiliv zeow lu Yizaz, Hxel efual lx...</td>\n",
       "    </tr>\n",
       "    <tr>\n",
       "      <th>26988</th>\n",
       "      <td>JHN 21:22</td>\n",
       "      <td>JHN</td>\n",
       "      <td>21</td>\n",
       "      <td>22</td>\n",
       "      <td>Jesus said to him, “If I desire that he stay u...</td>\n",
       "      <td>Jesus saith unto him, If I will that he tarry ...</td>\n",
       "      <td>Jesus saith unto him, If I will that he tarry ...</td>\n",
       "      <td>Jesus said to him, If it is my desire for him ...</td>\n",
       "      <td>Jhesus seith to him, So I wole that he dwelle ...</td>\n",
       "      <td>Yizaz zeow lu xon, Os ol oz nj wizovi suv xon ...</td>\n",
       "    </tr>\n",
       "    <tr>\n",
       "      <th>26989</th>\n",
       "      <td>JHN 21:23</td>\n",
       "      <td>JHN</td>\n",
       "      <td>21</td>\n",
       "      <td>23</td>\n",
       "      <td>This saying therefore went out among the broth...</td>\n",
       "      <td>This saying therefore went forth among the bre...</td>\n",
       "      <td>Then went this saying abroad among the brethre...</td>\n",
       "      <td>So this saying went about among the brothers t...</td>\n",
       "      <td>Therfor this word wente out among the brithere...</td>\n",
       "      <td>Zu lxoz zejorg hirl efual enurg lxi fvulxivz l...</td>\n",
       "    </tr>\n",
       "    <tr>\n",
       "      <th>26990</th>\n",
       "      <td>JHN 21:24</td>\n",
       "      <td>JHN</td>\n",
       "      <td>21</td>\n",
       "      <td>24</td>\n",
       "      <td>This is the disciple who testifies about these...</td>\n",
       "      <td>This is the disciple that beareth witness of t...</td>\n",
       "      <td>This is the disciple which testifieth of these...</td>\n",
       "      <td>This is the disciple who gives witness about t...</td>\n",
       "      <td>This is thilke disciple, that berith witnessyn...</td>\n",
       "      <td>Lxoz oz lxi wozkoqpi hxu gomiz holrizz efual l...</td>\n",
       "    </tr>\n",
       "    <tr>\n",
       "      <th>26991</th>\n",
       "      <td>JHN 21:25</td>\n",
       "      <td>JHN</td>\n",
       "      <td>21</td>\n",
       "      <td>25</td>\n",
       "      <td>There are also many other things which Jesus d...</td>\n",
       "      <td>And there are also many other things which Jes...</td>\n",
       "      <td>And there are also many other things which Jes...</td>\n",
       "      <td>And Jesus did such a number of other things th...</td>\n",
       "      <td>And ther ben also manye othere thingis that Jh...</td>\n",
       "      <td>Erw Yizaz wow zakx e ranfiv us ulxiv lxorgz lx...</td>\n",
       "    </tr>\n",
       "  </tbody>\n",
       "</table>\n",
       "<p>879 rows × 10 columns</p>\n",
       "</div>"
      ],
      "text/plain": [
       "               0 book  chapter  verse  \\\n",
       "26113    JHN 1:1  JHN        1      1   \n",
       "26114    JHN 1:2  JHN        1      2   \n",
       "26115    JHN 1:3  JHN        1      3   \n",
       "26116    JHN 1:4  JHN        1      4   \n",
       "26117    JHN 1:5  JHN        1      5   \n",
       "...          ...  ...      ...    ...   \n",
       "26987  JHN 21:21  JHN       21     21   \n",
       "26988  JHN 21:22  JHN       21     22   \n",
       "26989  JHN 21:23  JHN       21     23   \n",
       "26990  JHN 21:24  JHN       21     24   \n",
       "26991  JHN 21:25  JHN       21     25   \n",
       "\n",
       "                                                 eng-web  \\\n",
       "26113  In the beginning was the Word, and the Word wa...   \n",
       "26114            The same was in the beginning with God.   \n",
       "26115  All things were made through him. Without him,...   \n",
       "26116  In him was life, and the life was the light of...   \n",
       "26117  The light shines in the darkness, and the dark...   \n",
       "...                                                  ...   \n",
       "26987  Peter, seeing him, said to Jesus, “Lord, what ...   \n",
       "26988  Jesus said to him, “If I desire that he stay u...   \n",
       "26989  This saying therefore went out among the broth...   \n",
       "26990  This is the disciple who testifies about these...   \n",
       "26991  There are also many other things which Jesus d...   \n",
       "\n",
       "                                                 eng-asv  \\\n",
       "26113  In the beginning was the Word, and the Word wa...   \n",
       "26114            The same was in the beginning with God.   \n",
       "26115  All things were made through him; and without ...   \n",
       "26116  In him was life; and the life was the light of...   \n",
       "26117  And the light shineth in the darkness; and the...   \n",
       "...                                                  ...   \n",
       "26987  Peter therefore seeing him saith to Jesus, Lor...   \n",
       "26988  Jesus saith unto him, If I will that he tarry ...   \n",
       "26989  This saying therefore went forth among the bre...   \n",
       "26990  This is the disciple that beareth witness of t...   \n",
       "26991  And there are also many other things which Jes...   \n",
       "\n",
       "                                             eng-kjv2006  \\\n",
       "26113  In the beginning was the Word, and the Word wa...   \n",
       "26114            The same was in the beginning with God.   \n",
       "26115  All things were made by him; and without him w...   \n",
       "26116  In him was life; and the life was the light of...   \n",
       "26117  And the light shineth in darkness; and the dar...   \n",
       "...                                                  ...   \n",
       "26987  Peter seeing him saith to Jesus, Lord, and wha...   \n",
       "26988  Jesus saith unto him, If I will that he tarry ...   \n",
       "26989  Then went this saying abroad among the brethre...   \n",
       "26990  This is the disciple which testifieth of these...   \n",
       "26991  And there are also many other things which Jes...   \n",
       "\n",
       "                                                  engBBE  \\\n",
       "26113  From the first he was the Word, and the Word w...   \n",
       "26114  This Word was from the first in relation with ...   \n",
       "26115  All things came into existence through him, an...   \n",
       "26116  What came into existence in him was life, and ...   \n",
       "26117  And the light goes on shining in the dark; it ...   \n",
       "...                                                  ...   \n",
       "26987  Seeing him, Peter said to Jesus, What about th...   \n",
       "26988  Jesus said to him, If it is my desire for him ...   \n",
       "26989  So this saying went about among the brothers t...   \n",
       "26990  This is the disciple who gives witness about t...   \n",
       "26991  And Jesus did such a number of other things th...   \n",
       "\n",
       "                                             engWycliffe  \\\n",
       "26113  In the bigynnyng was the word, and the word wa...   \n",
       "26114                  This was in the bigynnyng at God.   \n",
       "26115  Alle thingis weren maad bi hym, and withouten ...   \n",
       "26116  In hym was lijf, and the lijf was the liyt of ...   \n",
       "26117              and derknessis comprehendiden not it.   \n",
       "...                                                  ...   \n",
       "26987  Therfor whanne Petre hadde seyn this, he seith...   \n",
       "26988  Jhesus seith to him, So I wole that he dwelle ...   \n",
       "26989  Therfor this word wente out among the brithere...   \n",
       "26990  This is thilke disciple, that berith witnessyn...   \n",
       "26991  And ther ben also manye othere thingis that Jh...   \n",
       "\n",
       "                                                  birrig  \n",
       "26113  Svun lxi sovzl xi hez lxi Huvw, erw lxi Huvw h...  \n",
       "26114  Lxoz Huvw hez svun lxi sovzl or vipelour holx ...  \n",
       "26115  Epp lxorgz keni orlu ibozlirki lxvuagx xon, er...  \n",
       "26116  Hxel keni orlu ibozlirki or xon hez posi, erw ...  \n",
       "26117  Erw lxi pogxl guiz ur zxororg or lxi wevc; ol ...  \n",
       "...                                                  ...  \n",
       "26987  Ziiorg xon, Qiliv zeow lu Yizaz, Hxel efual lx...  \n",
       "26988  Yizaz zeow lu xon, Os ol oz nj wizovi suv xon ...  \n",
       "26989  Zu lxoz zejorg hirl efual enurg lxi fvulxivz l...  \n",
       "26990  Lxoz oz lxi wozkoqpi hxu gomiz holrizz efual l...  \n",
       "26991  Erw Yizaz wow zakx e ranfiv us ulxiv lxorgz lx...  \n",
       "\n",
       "[879 rows x 10 columns]"
      ]
     },
     "execution_count": 223,
     "metadata": {},
     "output_type": "execute_result"
    }
   ],
   "source": [
    "train[train['book'] == 'JHN']"
   ]
  },
  {
   "cell_type": "code",
   "execution_count": 211,
   "metadata": {},
   "outputs": [
    {
     "data": {
      "text/html": [
       "<div>\n",
       "<style scoped>\n",
       "    .dataframe tbody tr th:only-of-type {\n",
       "        vertical-align: middle;\n",
       "    }\n",
       "\n",
       "    .dataframe tbody tr th {\n",
       "        vertical-align: top;\n",
       "    }\n",
       "\n",
       "    .dataframe thead th {\n",
       "        text-align: right;\n",
       "    }\n",
       "</style>\n",
       "<table border=\"1\" class=\"dataframe\">\n",
       "  <thead>\n",
       "    <tr style=\"text-align: right;\">\n",
       "      <th></th>\n",
       "      <th>prompt</th>\n",
       "      <th>completion</th>\n",
       "    </tr>\n",
       "  </thead>\n",
       "  <tbody>\n",
       "    <tr>\n",
       "      <th>23213</th>\n",
       "      <td>Matthew 1:1 from the Bible in the Berrig langu...</td>\n",
       "      <td>Lxi fuuc us lxi girivelourz us Yizaz Kxvozl, ...</td>\n",
       "    </tr>\n",
       "    <tr>\n",
       "      <th>23214</th>\n",
       "      <td>Matthew 1:2 from the Bible in the Berrig langu...</td>\n",
       "      <td>Lxi zur us Efvexen hez Ozeek; erw lxi zur us ...</td>\n",
       "    </tr>\n",
       "    <tr>\n",
       "      <th>23215</th>\n",
       "      <td>Matthew 1:3 from the Bible in the Berrig langu...</td>\n",
       "      <td>Erw lxi zurz us Yawex hivi Qivid erw Divex fj...</td>\n",
       "    </tr>\n",
       "    <tr>\n",
       "      <th>23216</th>\n",
       "      <td>Matthew 1:4 from the Bible in the Berrig langu...</td>\n",
       "      <td>Erw lxi zur us Ven hez Ennorewef; erw lxi zur...</td>\n",
       "    </tr>\n",
       "    <tr>\n",
       "      <th>23217</th>\n",
       "      <td>Matthew 1:5 from the Bible in the Berrig langu...</td>\n",
       "      <td>Erw lxi zur us Zepnur fj Vexef hez Fued; erw ...</td>\n",
       "    </tr>\n",
       "    <tr>\n",
       "      <th>...</th>\n",
       "      <td>...</td>\n",
       "      <td>...</td>\n",
       "    </tr>\n",
       "    <tr>\n",
       "      <th>26987</th>\n",
       "      <td>John 21:21 from the Bible in the Berrig langua...</td>\n",
       "      <td>Ziiorg xon, Qiliv zeow lu Yizaz, Hxel efual l...</td>\n",
       "    </tr>\n",
       "    <tr>\n",
       "      <th>26988</th>\n",
       "      <td>John 21:22 from the Bible in the Berrig langua...</td>\n",
       "      <td>Yizaz zeow lu xon, Os ol oz nj wizovi suv xon...</td>\n",
       "    </tr>\n",
       "    <tr>\n",
       "      <th>26989</th>\n",
       "      <td>John 21:23 from the Bible in the Berrig langua...</td>\n",
       "      <td>Zu lxoz zejorg hirl efual enurg lxi fvulxivz ...</td>\n",
       "    </tr>\n",
       "    <tr>\n",
       "      <th>26990</th>\n",
       "      <td>John 21:24 from the Bible in the Berrig langua...</td>\n",
       "      <td>Lxoz oz lxi wozkoqpi hxu gomiz holrizz efual ...</td>\n",
       "    </tr>\n",
       "    <tr>\n",
       "      <th>26991</th>\n",
       "      <td>John 21:25 from the Bible in the Berrig langua...</td>\n",
       "      <td>Erw Yizaz wow zakx e ranfiv us ulxiv lxorgz l...</td>\n",
       "    </tr>\n",
       "  </tbody>\n",
       "</table>\n",
       "<p>3101 rows × 2 columns</p>\n",
       "</div>"
      ],
      "text/plain": [
       "                                                  prompt  \\\n",
       "23213  Matthew 1:1 from the Bible in the Berrig langu...   \n",
       "23214  Matthew 1:2 from the Bible in the Berrig langu...   \n",
       "23215  Matthew 1:3 from the Bible in the Berrig langu...   \n",
       "23216  Matthew 1:4 from the Bible in the Berrig langu...   \n",
       "23217  Matthew 1:5 from the Bible in the Berrig langu...   \n",
       "...                                                  ...   \n",
       "26987  John 21:21 from the Bible in the Berrig langua...   \n",
       "26988  John 21:22 from the Bible in the Berrig langua...   \n",
       "26989  John 21:23 from the Bible in the Berrig langua...   \n",
       "26990  John 21:24 from the Bible in the Berrig langua...   \n",
       "26991  John 21:25 from the Bible in the Berrig langua...   \n",
       "\n",
       "                                              completion  \n",
       "23213   Lxi fuuc us lxi girivelourz us Yizaz Kxvozl, ...  \n",
       "23214   Lxi zur us Efvexen hez Ozeek; erw lxi zur us ...  \n",
       "23215   Erw lxi zurz us Yawex hivi Qivid erw Divex fj...  \n",
       "23216   Erw lxi zur us Ven hez Ennorewef; erw lxi zur...  \n",
       "23217   Erw lxi zur us Zepnur fj Vexef hez Fued; erw ...  \n",
       "...                                                  ...  \n",
       "26987   Ziiorg xon, Qiliv zeow lu Yizaz, Hxel efual l...  \n",
       "26988   Yizaz zeow lu xon, Os ol oz nj wizovi suv xon...  \n",
       "26989   Zu lxoz zejorg hirl efual enurg lxi fvulxivz ...  \n",
       "26990   Lxoz oz lxi wozkoqpi hxu gomiz holrizz efual ...  \n",
       "26991   Erw Yizaz wow zakx e ranfiv us ulxiv lxorgz l...  \n",
       "\n",
       "[3101 rows x 2 columns]"
      ]
     },
     "execution_count": 211,
     "metadata": {},
     "output_type": "execute_result"
    }
   ],
   "source": [
    "def rename_book(reference):\n",
    "    book, remainder = reference.split()\n",
    "    if book == 'MAT':\n",
    "        book = 'Matthew'\n",
    "    elif book == 'LUK':\n",
    "        book = 'Luke'\n",
    "    elif book == 'JHN':\n",
    "        book = 'John'\n",
    "    elif book == 'MRK':\n",
    "        book = 'Mark'\n",
    "    return \" \".join([book, remainder])\n",
    "\n",
    "PROMPT_SUFFIX = \" from the Bible in the Berrig language says, \\\"\"\n",
    "df2 = pd.DataFrame({'prompt': train['0'], 'completion': train['birrig']})\n",
    "df2['completion'] = df2['completion'].apply(lambda x: \" \" + x + '\"\\n###')\n",
    "df2['prompt'] = df2['prompt'].apply(lambda x: rename_book(x) + PROMPT_SUFFIX)\n",
    "df2.to_json('data/train_exp1.jsonl', orient='records', lines=True)\n",
    "df2\n"
   ]
  },
  {
   "cell_type": "code",
   "execution_count": 201,
   "metadata": {},
   "outputs": [
    {
     "name": "stdout",
     "output_type": "stream",
     "text": [
      "Analyzing...\n",
      "\n",
      "- Your file contains 3101 prompt-completion pairs\n",
      "- All prompts end with suffix ` from the Bible in the Berrig language says, \"`. This suffix seems very long. Consider replacing with a shorter suffix, such as ` ->`\n",
      "- All completions end with suffix `\"\\n###`\n",
      "\n",
      "No remediations found.\n",
      "\n",
      "You can use your file for fine-tuning:\n",
      "> openai api fine_tunes.create -t \"data/train_exp1.jsonl\"\n",
      "\n",
      "After you’ve fine-tuned a model, remember that your prompt has to end with the indicator string ` from the Bible in the Berrig language says, \"` for the model to start generating completions, rather than continuing with the prompt. Make sure to include `stop=[\"\"\\n###\"]` so that the generated texts ends at the expected place.\n",
      "Once your model starts training, it'll approximately take 45.03 minutes to train a `curie` model, and less for `ada` and `babbage`. Queue will approximately take half an hour per job ahead of you.\n"
     ]
    }
   ],
   "source": [
    "!python3 /Users/chrispriebe/Library/Python/3.8/lib/python/site-packages/openai/_openai_scripts.py tools fine_tunes.prepare_data -f data/train_exp1.jsonl -q"
   ]
  },
  {
   "cell_type": "code",
   "execution_count": 207,
   "metadata": {},
   "outputs": [
    {
     "name": "stdout",
     "output_type": "stream",
     "text": [
      "Upload progress: 100%|███████████████████████| 660k/660k [00:00<00:00, 804Mit/s]\n",
      "Uploaded file from data/train_exp1c.jsonl: file-3XqLJq8aIDSadDnW68fMi4TP\n",
      "Created fine-tune: ft-pSvQW5yxPyHqU2eDrFDsaAGH\n",
      "Streaming events until fine-tuning is complete...\n",
      "\n",
      "(Ctrl-C will interrupt the stream, but not cancel the fine-tune)\n",
      "[2023-03-30 15:05:14] Created fine-tune: ft-pSvQW5yxPyHqU2eDrFDsaAGH\n",
      "\n",
      "Stream interrupted (client disconnected).\n",
      "To resume the stream, run:\n",
      "\n",
      "  openai api fine_tunes.follow -i ft-pSvQW5yxPyHqU2eDrFDsaAGH\n",
      "\n"
     ]
    }
   ],
   "source": [
    "!python3 /Users/chrispriebe/Library/Python/3.8/lib/python/site-packages/openai/_openai_scripts.py api fine_tunes.create -t \"data/train_exp1c.jsonl\" -m \"davinci\""
   ]
  },
  {
   "cell_type": "code",
   "execution_count": 209,
   "metadata": {},
   "outputs": [
    {
     "name": "stdout",
     "output_type": "stream",
     "text": [
      "[2023-03-30 15:05:14] Created fine-tune: ft-pSvQW5yxPyHqU2eDrFDsaAGH\n",
      "[2023-03-30 15:08:49] Fine-tune costs $28.57\n",
      "[2023-03-30 15:08:50] Fine-tune enqueued. Queue number: 29\n",
      "[2023-03-30 15:09:34] Fine-tune is in the queue. Queue number: 28\n",
      "[2023-03-30 15:10:37] Fine-tune is in the queue. Queue number: 27\n",
      "[2023-03-30 15:10:46] Fine-tune is in the queue. Queue number: 26\n",
      "[2023-03-30 15:11:42] Fine-tune is in the queue. Queue number: 25\n",
      "[2023-03-30 15:13:15] Fine-tune is in the queue. Queue number: 24\n",
      "[2023-03-30 15:13:48] Fine-tune is in the queue. Queue number: 23\n",
      "[2023-03-30 15:14:04] Fine-tune is in the queue. Queue number: 22\n",
      "[2023-03-30 15:14:25] Fine-tune is in the queue. Queue number: 21\n",
      "[2023-03-30 15:16:19] Fine-tune is in the queue. Queue number: 20\n",
      "[2023-03-30 15:16:47] Fine-tune is in the queue. Queue number: 19\n",
      "[2023-03-30 15:17:22] Fine-tune is in the queue. Queue number: 18\n",
      "[2023-03-30 15:18:34] Fine-tune is in the queue. Queue number: 17\n",
      "[2023-03-30 15:19:04] Fine-tune is in the queue. Queue number: 16\n",
      "[2023-03-30 15:20:00] Fine-tune is in the queue. Queue number: 15\n",
      "[2023-03-30 15:21:24] Fine-tune is in the queue. Queue number: 14\n",
      "[2023-03-30 15:21:45] Fine-tune is in the queue. Queue number: 13\n",
      "[2023-03-30 15:22:46] Fine-tune is in the queue. Queue number: 12\n",
      "[2023-03-30 15:23:48] Fine-tune is in the queue. Queue number: 11\n",
      "[2023-03-30 15:24:02] Fine-tune is in the queue. Queue number: 9\n",
      "[2023-03-30 15:24:02] Fine-tune is in the queue. Queue number: 9\n",
      "[2023-03-30 15:25:10] Fine-tune is in the queue. Queue number: 8\n",
      "[2023-03-30 15:25:37] Fine-tune is in the queue. Queue number: 7\n",
      "[2023-03-30 15:27:21] Fine-tune is in the queue. Queue number: 6\n",
      "[2023-03-30 15:27:27] Fine-tune is in the queue. Queue number: 5\n",
      "[2023-03-30 15:27:31] Fine-tune is in the queue. Queue number: 4\n",
      "[2023-03-30 15:27:37] Fine-tune is in the queue. Queue number: 3\n",
      "[2023-03-30 15:31:15] Fine-tune is in the queue. Queue number: 2\n",
      "[2023-03-30 15:31:16] Fine-tune is in the queue. Queue number: 1\n",
      "[2023-03-30 15:34:07] Fine-tune is in the queue. Queue number: 0\n",
      "[2023-03-30 15:34:13] Fine-tune started\n",
      "[2023-03-30 15:49:24] Completed epoch 1/4\n",
      "[2023-03-30 16:15:40] Completed epoch 3/4\n",
      "[2023-03-30 16:29:23] Uploaded model: davinci:ft-personal-2023-03-30-23-29-22\n",
      "[2023-03-30 16:29:25] Uploaded result file: file-d6oA980FHS3TDAlootqxyON5\n",
      "[2023-03-30 16:29:25] Fine-tune succeeded\n",
      "\n",
      "Job complete! Status: succeeded 🎉\n",
      "Try out your fine-tuned model:\n",
      "\n",
      "openai api completions.create -m davinci:ft-personal-2023-03-30-23-29-22 -p <YOUR_PROMPT>\n"
     ]
    }
   ],
   "source": [
    "!python3 /Users/chrispriebe/Library/Python/3.8/lib/python/site-packages/openai/_openai_scripts.py api fine_tunes.follow -i ft-pSvQW5yxPyHqU2eDrFDsaAGH"
   ]
  },
  {
   "cell_type": "code",
   "execution_count": 220,
   "metadata": {},
   "outputs": [],
   "source": [
    "import openai\n",
    "from lib.cipher import substitution_cipher\n",
    "from nltk.translate.bleu_score import sentence_bleu\n",
    "\n",
    "openai.api_key = os.getenv(\"OPENAI_API_KEY\")\n",
    "\n",
    "def question(text, model='text-davinci-003', stop=[\"\\n###\"]):\n",
    "    response = openai.Completion.create(\n",
    "        model=model,\n",
    "        prompt=text,\n",
    "        temperature=0.15,  # 0.1 is very little randomness/creativity, 2 is very\n",
    "        max_tokens=300,\n",
    "        frequency_penalty=0,\n",
    "        presence_penalty=0,\n",
    "        logprobs=3,\n",
    "        stop=stop\n",
    "    )\n",
    "    \n",
    "    \n",
    "    return response.get('choices',[])[0].get('text','').strip()\n",
    "\n",
    "def translate(text):\n",
    "    print(text + PROMPT_SUFFIX)\n",
    "    response = openai.Completion.create(\n",
    "        model=\"davinci:ft-personal-2023-03-30-23-29-22\",\n",
    "        prompt=text + PROMPT_SUFFIX,\n",
    "        temperature=0.5,  # 0.1 is very little randomness/creativity, 2 is very\n",
    "        max_tokens=100,\n",
    "        n=1,\n",
    "        frequency_penalty=0,\n",
    "        presence_penalty=0,\n",
    "        #stop=[\"\\n###\"]\n",
    "    )\n",
    "    result = []\n",
    "    for choice in response.get('choices',[{}]):\n",
    "        decoded = substitution_cipher(choice.get('text').strip(), encode=False).strip()\n",
    "        result.append({\n",
    "            'translation': choice.get('text').strip(),\n",
    "            'decoded_translation': decoded,\n",
    "            #'bleu_score': sentence_bleu([text.split()], decoded.split())\n",
    "        })\n",
    "    \n",
    "    return result"
   ]
  },
  {
   "cell_type": "code",
   "execution_count": null,
   "metadata": {},
   "outputs": [],
   "source": [
    "question(\"In the beginnning was the \")"
   ]
  },
  {
   "cell_type": "code",
   "execution_count": 217,
   "metadata": {},
   "outputs": [
    {
     "name": "stdout",
     "output_type": "stream",
     "text": [
      "John 3:16 from the Bible in the Berrig language says, \"\n"
     ]
    },
    {
     "data": {
      "text/plain": [
       "[{'translation': 'Lxir lxi Yihz zeow lu xon, Lxi Yihz xez ruh wuri. Erw lxij zeow lu xon, Wu jua ruh wuri?\"\\n### Erw lxij qal xon lu wielx, erw lxij gemi xon fpuhz lu lxin.\\n### Lxij zeow lu xon, Hxel oz x',\n",
       "  'decoded_translation': 'Then the Jews said to him, The Jews has now done. And they said to him, Do you now done?\"\\n### And they put him to death, and they gave him blows to them.\\n### They said to him, What is h'}]"
      ]
     },
     "execution_count": 217,
     "metadata": {},
     "output_type": "execute_result"
    }
   ],
   "source": [
    "# Fails to do so\n",
    "translate(\"John 3:16\")"
   ]
  },
  {
   "cell_type": "code",
   "execution_count": 222,
   "metadata": {},
   "outputs": [
    {
     "data": {
      "text/plain": [
       "'For God so loved the world that he gave his only begotten Son, that whoever believes in him should not perish, but have eternal life.\"'"
      ]
     },
     "execution_count": 222,
     "metadata": {},
     "output_type": "execute_result"
    }
   ],
   "source": [
    "question(\"Quote John 3:16 in several English Bibles \\\"\", \"davinci:ft-personal-2023-03-30-23-29-22\")"
   ]
  },
  {
   "attachments": {},
   "cell_type": "markdown",
   "metadata": {},
   "source": [
    "## Here we test if GPT has knowledge of a verse on it's own\n",
    "Learnings\n",
    " - John works much better than JHN\n",
    " - Davini is not as good as text-davini-003 ???\n",
    " - if you rewrite it for a 5 year old it shortens it\n",
    " - without a for a 9 year old it chooses NIV or KJV or other\n",
    " - confuses John 18:2 for John 18:4\n",
    " - it can pull the gender, plurarily and others for the text (to be confirmed if correct though)"
   ]
  },
  {
   "cell_type": "code",
   "execution_count": 197,
   "metadata": {},
   "outputs": [
    {
     "data": {
      "text/plain": [
       "'Toutes les cohortes se sont mises en mouvement, et ils ont pris Jésus.\" This translates to, \"All the cohorts set out, and they took Jesus.\"'"
      ]
     },
     "execution_count": 197,
     "metadata": {},
     "output_type": "execute_result"
    }
   ],
   "source": [
    "question(\"John 18:2 from the Bible in the French language says, \\\"\")"
   ]
  },
  {
   "cell_type": "code",
   "execution_count": 187,
   "metadata": {},
   "outputs": [
    {
     "data": {
      "text/plain": [
       "'And Jesus, knowing all that was going to happen to Him, went out to meet His betrayer.\"'"
      ]
     },
     "execution_count": 187,
     "metadata": {},
     "output_type": "execute_result"
    }
   ],
   "source": [
    "question(\"John 18:2 from the Bible rewritten for 9 year olds without losing any keywords says, \\\"\")"
   ]
  },
  {
   "cell_type": "code",
   "execution_count": 188,
   "metadata": {},
   "outputs": [
    {
     "data": {
      "text/plain": [
       "'English: And Judas also, which betrayed him, knew the place: for Jesus ofttimes resorted thither with his disciples.\\n\\nSpanish: Y Judas, el que le entregó, conocía también aquel lugar, porque Jesús se había reunido allí muchas veces con sus discípulos.\\n\\nGerman: Und auch Judas, der ihn verriet, kannte den Ort; denn Jesus war oft dorthin mit seinen Jüngern gekommen.'"
      ]
     },
     "execution_count": 188,
     "metadata": {},
     "output_type": "execute_result"
    }
   ],
   "source": [
    "question(\"John 18:2 from the Bible in 3 languages, \\\"\")"
   ]
  },
  {
   "cell_type": "code",
   "execution_count": 194,
   "metadata": {},
   "outputs": [
    {
     "data": {
      "text/plain": [
       "'That which was from the (Neuter) beginning, which we have heard, which we have seen with our (plural) eyes, which we have looked upon, and our (plural) hands have handled, of the Word of life;'"
      ]
     },
     "execution_count": 194,
     "metadata": {},
     "output_type": "execute_result"
    }
   ],
   "source": [
    "question(\"1 John 1:1 in English but mark plural as (plural) and gender from greek as (Masc, Fem, or Neuter) for every word\\\"\")"
   ]
  },
  {
   "cell_type": "code",
   "execution_count": 190,
   "metadata": {},
   "outputs": [
    {
     "data": {
      "text/plain": [
       "'And the (Masc) servants and officers (plural) came to him, and the (Masc) Judas also, which betrayed him.\"'"
      ]
     },
     "execution_count": 190,
     "metadata": {},
     "output_type": "execute_result"
    }
   ],
   "source": [
    "question(\"John 18:2 in English but mark plural as (plural) and gender from greek as (Masc, Fem, or Neuter), \\\"\")"
   ]
  },
  {
   "attachments": {},
   "cell_type": "markdown",
   "metadata": {},
   "source": [
    "## Feedback\n",
    "In theory we thought that it could map just from the reference b/c it shows that on devinci it knows the verse.  So in theory it should have all the versions of that text, all the sermons and all the commentaries and comments about it embedded into it.  But when asked for that verse after training it then it doesn't know it so it appears to not be packaging all those findings with it."
   ]
  },
  {
   "attachments": {},
   "cell_type": "markdown",
   "metadata": {},
   "source": [
    "We did a second attempt where we set the prompt to John 3:16 in the Bible says, \" but even at that it was confused and we could not extract the internal knowledge in fine tuning only in directly calling it."
   ]
  },
  {
   "cell_type": "markdown",
   "metadata": {},
   "source": []
  }
 ],
 "metadata": {
  "kernelspec": {
   "display_name": "Python 3",
   "language": "python",
   "name": "python3"
  },
  "language_info": {
   "codemirror_mode": {
    "name": "ipython",
    "version": 3
   },
   "file_extension": ".py",
   "mimetype": "text/x-python",
   "name": "python",
   "nbconvert_exporter": "python",
   "pygments_lexer": "ipython3",
   "version": "3.8.9"
  },
  "orig_nbformat": 4,
  "vscode": {
   "interpreter": {
    "hash": "31f2aee4e71d21fbe5cf8b01ff0e069b9275f58929596ceb00d14d90e3e16cd6"
   }
  }
 },
 "nbformat": 4,
 "nbformat_minor": 2
}
